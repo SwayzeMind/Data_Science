{
  "nbformat": 4,
  "nbformat_minor": 0,
  "metadata": {
    "anaconda-cloud": {},
    "kernelspec": {
      "name": "python3",
      "display_name": "Python 3"
    },
    "language_info": {
      "codemirror_mode": {
        "name": "ipython",
        "version": 3
      },
      "file_extension": ".py",
      "mimetype": "text/x-python",
      "name": "python",
      "nbconvert_exporter": "python",
      "pygments_lexer": "ipython3",
      "version": "3.7.3"
    },
    "name": "seminar02_part2_pandas.ipynb",
    "colab": {
      "name": "lesson_6.ipynb",
      "provenance": [],
      "collapsed_sections": []
    },
    "accelerator": "GPU"
  },
  "cells": [
    {
      "cell_type": "markdown",
      "metadata": {
        "id": "YmTFQOMFroCm",
        "colab_type": "text"
      },
      "source": [
        "# Тема “Обучение с учителем в Scikit-learn”\n",
        "\n",
        "выполнил Колеганов Николай Дмитриевич"
      ]
    },
    {
      "cell_type": "markdown",
      "metadata": {
        "id": "KWzDPF0Tr5js",
        "colab_type": "text"
      },
      "source": [
        "## Задание 1\n",
        "Импортируйте библиотеки pandas и numpy.\n",
        "\n",
        "Загрузите \"Boston House Prices dataset\" из встроенных наборов данных библиотеки sklearn. Создайте датафреймы X и Y из этих данных.\n"
      ]
    },
    {
      "cell_type": "code",
      "metadata": {
        "id": "6E3DbRpKazy5",
        "colab_type": "code",
        "colab": {}
      },
      "source": [
        "import numpy as np\n",
        "import pandas as pd\n",
        "from sklearn.linear_model import LinearRegression\n",
        "from sklearn.model_selection import train_test_split\n",
        "from sklearn.datasets import load_boston\n",
        "import matplotlib.pyplot as plt\n",
        "%matplotlib inline\n",
        "%config InlineBackend.figure_format = 'svg'"
      ],
      "execution_count": 0,
      "outputs": []
    },
    {
      "cell_type": "code",
      "metadata": {
        "id": "z7Dd8xgmjvpB",
        "colab_type": "code",
        "colab": {
          "base_uri": "https://localhost:8080/",
          "height": 51
        },
        "outputId": "e5dae13f-0a83-44b1-874e-baf1dd23c049"
      },
      "source": [
        "boston = load_boston()\n",
        "data = boston[\"data\"]\n",
        "print(\"Ключи в данных: \\n\",boston.keys())"
      ],
      "execution_count": 19,
      "outputs": [
        {
          "output_type": "stream",
          "text": [
            "Ключи в данных: \n",
            " dict_keys(['data', 'target', 'feature_names', 'DESCR', 'filename'])\n"
          ],
          "name": "stdout"
        }
      ]
    },
    {
      "cell_type": "code",
      "metadata": {
        "id": "cAyedVsMFmrZ",
        "colab_type": "code",
        "colab": {
          "base_uri": "https://localhost:8080/",
          "height": 51
        },
        "outputId": "84f5d9eb-81ab-4a6f-8cef-a5385be4b848"
      },
      "source": [
        "print(\"Размер данных: \\n\",data.shape)"
      ],
      "execution_count": 20,
      "outputs": [
        {
          "output_type": "stream",
          "text": [
            "Размер данных: \n",
            " (506, 13)\n"
          ],
          "name": "stdout"
        }
      ]
    },
    {
      "cell_type": "code",
      "metadata": {
        "id": "goipQpoWHUOn",
        "colab_type": "code",
        "colab": {
          "base_uri": "https://localhost:8080/",
          "height": 68
        },
        "outputId": "8f91b53d-f79e-4776-d415-63631c4fc285"
      },
      "source": [
        "feature_names = boston[\"feature_names\"]\n",
        "print(\"Название колонок: \\n\", feature_names)"
      ],
      "execution_count": 21,
      "outputs": [
        {
          "output_type": "stream",
          "text": [
            "Название колонок: \n",
            " ['CRIM' 'ZN' 'INDUS' 'CHAS' 'NOX' 'RM' 'AGE' 'DIS' 'RAD' 'TAX' 'PTRATIO'\n",
            " 'B' 'LSTAT']\n"
          ],
          "name": "stdout"
        }
      ]
    },
    {
      "cell_type": "code",
      "metadata": {
        "id": "8lW9eDz3HvA1",
        "colab_type": "code",
        "colab": {
          "base_uri": "https://localhost:8080/",
          "height": 238
        },
        "outputId": "a10a69aa-734d-4305-cc01-57950bd76ec5"
      },
      "source": [
        "X = pd.DataFrame(data, columns=feature_names)\n",
        "print(\"Сами данные в таблице\\n\")\n",
        "X.head()"
      ],
      "execution_count": 25,
      "outputs": [
        {
          "output_type": "stream",
          "text": [
            "Сами данные в таблице\n",
            "\n"
          ],
          "name": "stdout"
        },
        {
          "output_type": "execute_result",
          "data": {
            "text/html": [
              "<div>\n",
              "<style scoped>\n",
              "    .dataframe tbody tr th:only-of-type {\n",
              "        vertical-align: middle;\n",
              "    }\n",
              "\n",
              "    .dataframe tbody tr th {\n",
              "        vertical-align: top;\n",
              "    }\n",
              "\n",
              "    .dataframe thead th {\n",
              "        text-align: right;\n",
              "    }\n",
              "</style>\n",
              "<table border=\"1\" class=\"dataframe\">\n",
              "  <thead>\n",
              "    <tr style=\"text-align: right;\">\n",
              "      <th></th>\n",
              "      <th>CRIM</th>\n",
              "      <th>ZN</th>\n",
              "      <th>INDUS</th>\n",
              "      <th>CHAS</th>\n",
              "      <th>NOX</th>\n",
              "      <th>RM</th>\n",
              "      <th>AGE</th>\n",
              "      <th>DIS</th>\n",
              "      <th>RAD</th>\n",
              "      <th>TAX</th>\n",
              "      <th>PTRATIO</th>\n",
              "      <th>B</th>\n",
              "      <th>LSTAT</th>\n",
              "    </tr>\n",
              "  </thead>\n",
              "  <tbody>\n",
              "    <tr>\n",
              "      <th>0</th>\n",
              "      <td>6.32e-03</td>\n",
              "      <td>18.0</td>\n",
              "      <td>2.31</td>\n",
              "      <td>0.0</td>\n",
              "      <td>0.54</td>\n",
              "      <td>6.58</td>\n",
              "      <td>65.2</td>\n",
              "      <td>4.09</td>\n",
              "      <td>1.0</td>\n",
              "      <td>296.0</td>\n",
              "      <td>15.3</td>\n",
              "      <td>396.90</td>\n",
              "      <td>4.98</td>\n",
              "    </tr>\n",
              "    <tr>\n",
              "      <th>1</th>\n",
              "      <td>2.73e-02</td>\n",
              "      <td>0.0</td>\n",
              "      <td>7.07</td>\n",
              "      <td>0.0</td>\n",
              "      <td>0.47</td>\n",
              "      <td>6.42</td>\n",
              "      <td>78.9</td>\n",
              "      <td>4.97</td>\n",
              "      <td>2.0</td>\n",
              "      <td>242.0</td>\n",
              "      <td>17.8</td>\n",
              "      <td>396.90</td>\n",
              "      <td>9.14</td>\n",
              "    </tr>\n",
              "    <tr>\n",
              "      <th>2</th>\n",
              "      <td>2.73e-02</td>\n",
              "      <td>0.0</td>\n",
              "      <td>7.07</td>\n",
              "      <td>0.0</td>\n",
              "      <td>0.47</td>\n",
              "      <td>7.18</td>\n",
              "      <td>61.1</td>\n",
              "      <td>4.97</td>\n",
              "      <td>2.0</td>\n",
              "      <td>242.0</td>\n",
              "      <td>17.8</td>\n",
              "      <td>392.83</td>\n",
              "      <td>4.03</td>\n",
              "    </tr>\n",
              "    <tr>\n",
              "      <th>3</th>\n",
              "      <td>3.24e-02</td>\n",
              "      <td>0.0</td>\n",
              "      <td>2.18</td>\n",
              "      <td>0.0</td>\n",
              "      <td>0.46</td>\n",
              "      <td>7.00</td>\n",
              "      <td>45.8</td>\n",
              "      <td>6.06</td>\n",
              "      <td>3.0</td>\n",
              "      <td>222.0</td>\n",
              "      <td>18.7</td>\n",
              "      <td>394.63</td>\n",
              "      <td>2.94</td>\n",
              "    </tr>\n",
              "    <tr>\n",
              "      <th>4</th>\n",
              "      <td>6.91e-02</td>\n",
              "      <td>0.0</td>\n",
              "      <td>2.18</td>\n",
              "      <td>0.0</td>\n",
              "      <td>0.46</td>\n",
              "      <td>7.15</td>\n",
              "      <td>54.2</td>\n",
              "      <td>6.06</td>\n",
              "      <td>3.0</td>\n",
              "      <td>222.0</td>\n",
              "      <td>18.7</td>\n",
              "      <td>396.90</td>\n",
              "      <td>5.33</td>\n",
              "    </tr>\n",
              "  </tbody>\n",
              "</table>\n",
              "</div>"
            ],
            "text/plain": [
              "       CRIM    ZN  INDUS  CHAS   NOX    RM   AGE   DIS  RAD    TAX  PTRATIO  \\\n",
              "0  6.32e-03  18.0   2.31   0.0  0.54  6.58  65.2  4.09  1.0  296.0     15.3   \n",
              "1  2.73e-02   0.0   7.07   0.0  0.47  6.42  78.9  4.97  2.0  242.0     17.8   \n",
              "2  2.73e-02   0.0   7.07   0.0  0.47  7.18  61.1  4.97  2.0  242.0     17.8   \n",
              "3  3.24e-02   0.0   2.18   0.0  0.46  7.00  45.8  6.06  3.0  222.0     18.7   \n",
              "4  6.91e-02   0.0   2.18   0.0  0.46  7.15  54.2  6.06  3.0  222.0     18.7   \n",
              "\n",
              "        B  LSTAT  \n",
              "0  396.90   4.98  \n",
              "1  396.90   9.14  \n",
              "2  392.83   4.03  \n",
              "3  394.63   2.94  \n",
              "4  396.90   5.33  "
            ]
          },
          "metadata": {
            "tags": []
          },
          "execution_count": 25
        }
      ]
    },
    {
      "cell_type": "code",
      "metadata": {
        "id": "sI_ref-dJEPr",
        "colab_type": "code",
        "colab": {
          "base_uri": "https://localhost:8080/",
          "height": 238
        },
        "outputId": "964c641a-a6a2-4a0c-a394-67a58e8f0a6a"
      },
      "source": [
        "target = boston[\"target\"]\n",
        "Y = pd.DataFrame(target, columns=[\"price\"])\n",
        "print(\"Цена\\n\")\n",
        "Y.head()"
      ],
      "execution_count": 35,
      "outputs": [
        {
          "output_type": "stream",
          "text": [
            "Цена\n",
            "\n"
          ],
          "name": "stdout"
        },
        {
          "output_type": "execute_result",
          "data": {
            "text/html": [
              "<div>\n",
              "<style scoped>\n",
              "    .dataframe tbody tr th:only-of-type {\n",
              "        vertical-align: middle;\n",
              "    }\n",
              "\n",
              "    .dataframe tbody tr th {\n",
              "        vertical-align: top;\n",
              "    }\n",
              "\n",
              "    .dataframe thead th {\n",
              "        text-align: right;\n",
              "    }\n",
              "</style>\n",
              "<table border=\"1\" class=\"dataframe\">\n",
              "  <thead>\n",
              "    <tr style=\"text-align: right;\">\n",
              "      <th></th>\n",
              "      <th>price</th>\n",
              "    </tr>\n",
              "  </thead>\n",
              "  <tbody>\n",
              "    <tr>\n",
              "      <th>0</th>\n",
              "      <td>24.0</td>\n",
              "    </tr>\n",
              "    <tr>\n",
              "      <th>1</th>\n",
              "      <td>21.6</td>\n",
              "    </tr>\n",
              "    <tr>\n",
              "      <th>2</th>\n",
              "      <td>34.7</td>\n",
              "    </tr>\n",
              "    <tr>\n",
              "      <th>3</th>\n",
              "      <td>33.4</td>\n",
              "    </tr>\n",
              "    <tr>\n",
              "      <th>4</th>\n",
              "      <td>36.2</td>\n",
              "    </tr>\n",
              "  </tbody>\n",
              "</table>\n",
              "</div>"
            ],
            "text/plain": [
              "   price\n",
              "0   24.0\n",
              "1   21.6\n",
              "2   34.7\n",
              "3   33.4\n",
              "4   36.2"
            ]
          },
          "metadata": {
            "tags": []
          },
          "execution_count": 35
        }
      ]
    },
    {
      "cell_type": "markdown",
      "metadata": {
        "id": "W2DadF_es-Wp",
        "colab_type": "text"
      },
      "source": [
        "Разбейте эти датафреймы на тренировочные (X_train, y_train) и тестовые (X_test, y_test) с помощью функции train_test_split так, чтобы размер тестовой выборки составлял 30% от всех данных, при этом аргумент random_state должен быть равен 42."
      ]
    },
    {
      "cell_type": "code",
      "metadata": {
        "id": "QtAVjptEJXi6",
        "colab_type": "code",
        "colab": {}
      },
      "source": [
        "X_train, X_test, Y_train, Y_test = train_test_split(X, Y, test_size=0.30, random_state=42)"
      ],
      "execution_count": 0,
      "outputs": []
    },
    {
      "cell_type": "code",
      "metadata": {
        "id": "GXgX9EENJkpM",
        "colab_type": "code",
        "colab": {
          "base_uri": "https://localhost:8080/",
          "height": 578
        },
        "outputId": "89a21779-1f83-4249-a201-73a322df85ef"
      },
      "source": [
        "print(\"Размеры получившихся тренировочных данных: \", X_train.shape, \"Размеры тренировочных ответов: \", Y_train.shape)\n",
        "print(\"Размеры получившихся тестовых данных: \", X_test.shape, \"Размеры тестовых ответов: \", Y_test.shape)\n",
        "print('~~~~~~~~~~~~~~~~~~~~~~~~~~~~~~~~~')\n",
        "print(\"Содержание получившихся тренировочных данных: \\n\", X_train.head())\n",
        "print('~~~~~~~~~~~~~~~~~~~~~~~~~~~~~~~~~')\n",
        "print(\"Содержание получившихся тестовых данных: \\n\", X_test.head())\n",
        "print('~~~~~~~~~~~~~~~~~~~~~~~~~~~~~~~~~')"
      ],
      "execution_count": 46,
      "outputs": [
        {
          "output_type": "stream",
          "text": [
            "Размеры получившихся тренировочных данных:  (354, 13) Размеры тренировочных ответов:  (354, 1)\n",
            "Размеры получившихся тестовых данных:  (152, 13) Размеры тестовых ответов:  (152, 1)\n",
            "~~~~~~~~~~~~~~~~~~~~~~~~~~~~~~~~~\n",
            "Содержание получившихся тренировочных данных: \n",
            "       CRIM   ZN  INDUS  CHAS   NOX    RM   AGE   DIS   RAD    TAX  PTRATIO  \\\n",
            "5     0.03  0.0   2.18   0.0  0.46  6.43  58.7  6.06   3.0  222.0     18.7   \n",
            "116   0.13  0.0  10.01   0.0  0.55  6.18  72.5  2.73   6.0  432.0     17.8   \n",
            "45    0.17  0.0   6.91   0.0  0.45  5.68  33.8  5.10   3.0  233.0     17.9   \n",
            "16    1.05  0.0   8.14   0.0  0.54  5.93  29.3  4.50   4.0  307.0     21.0   \n",
            "468  15.58  0.0  18.10   0.0  0.58  5.93  71.0  2.91  24.0  666.0     20.2   \n",
            "\n",
            "          B  LSTAT  \n",
            "5    394.12   5.21  \n",
            "116  393.30  12.04  \n",
            "45   396.90  10.21  \n",
            "16   386.85   6.58  \n",
            "468  368.74  18.13  \n",
            "~~~~~~~~~~~~~~~~~~~~~~~~~~~~~~~~~\n",
            "Содержание получившихся тестовых данных: \n",
            "      CRIM    ZN  INDUS  CHAS   NOX    RM   AGE   DIS   RAD    TAX  PTRATIO  \\\n",
            "173  0.09   0.0   4.05   0.0  0.51  6.42  84.1  2.65   5.0  296.0     16.6   \n",
            "274  0.06  40.0   6.41   1.0  0.45  6.76  32.9  4.08   4.0  254.0     17.6   \n",
            "491  0.11   0.0  27.74   0.0  0.61  5.98  98.8  1.87   4.0  711.0     20.1   \n",
            "72   0.09   0.0  10.81   0.0  0.41  6.07   7.8  5.29   4.0  305.0     19.2   \n",
            "452  5.09   0.0  18.10   0.0  0.71  6.30  91.8  2.37  24.0  666.0     20.2   \n",
            "\n",
            "          B  LSTAT  \n",
            "173  395.50   9.04  \n",
            "274  396.90   3.53  \n",
            "491  390.11  18.07  \n",
            "72   390.91   5.52  \n",
            "452  385.09  17.27  \n",
            "~~~~~~~~~~~~~~~~~~~~~~~~~~~~~~~~~\n"
          ],
          "name": "stdout"
        }
      ]
    },
    {
      "cell_type": "markdown",
      "metadata": {
        "id": "YiVFP-aRLUbb",
        "colab_type": "text"
      },
      "source": [
        "Создайте модель линейной регрессии под названием lr с помощью класса LinearRegression из модуля sklearn.linear_model."
      ]
    },
    {
      "cell_type": "code",
      "metadata": {
        "id": "U9LTdOgUuYho",
        "colab_type": "code",
        "colab": {}
      },
      "source": [
        "lr = LinearRegression()"
      ],
      "execution_count": 0,
      "outputs": []
    },
    {
      "cell_type": "markdown",
      "metadata": {
        "id": "fzvIaOxrLyEZ",
        "colab_type": "text"
      },
      "source": [
        "Обучите модель на тренировочных данных (используйте все признаки) и сделайте предсказание на тестовых."
      ]
    },
    {
      "cell_type": "code",
      "metadata": {
        "id": "XaIDO1t3wwzh",
        "colab_type": "code",
        "outputId": "39f012ea-5369-4e36-f823-d32e4197f2e5",
        "colab": {
          "base_uri": "https://localhost:8080/",
          "height": 34
        }
      },
      "source": [
        "lr.fit(X_train, Y_train)"
      ],
      "execution_count": 48,
      "outputs": [
        {
          "output_type": "execute_result",
          "data": {
            "text/plain": [
              "LinearRegression(copy_X=True, fit_intercept=True, n_jobs=None, normalize=False)"
            ]
          },
          "metadata": {
            "tags": []
          },
          "execution_count": 48
        }
      ]
    },
    {
      "cell_type": "code",
      "metadata": {
        "id": "aZLFr4CNNVXE",
        "colab_type": "code",
        "colab": {
          "base_uri": "https://localhost:8080/",
          "height": 204
        },
        "outputId": "5efa5a73-ba95-4b71-daa5-7265d00dcf06"
      },
      "source": [
        "y_pred_lr = lr.predict(X_test)\n",
        "check_test_lr = pd.DataFrame({\n",
        "    \"Y_test\": Y_test[\"price\"], \n",
        "    \"Y_pred_lr\": y_pred_lr.flatten()})\n",
        "\n",
        "check_test_lr.head()"
      ],
      "execution_count": 49,
      "outputs": [
        {
          "output_type": "execute_result",
          "data": {
            "text/html": [
              "<div>\n",
              "<style scoped>\n",
              "    .dataframe tbody tr th:only-of-type {\n",
              "        vertical-align: middle;\n",
              "    }\n",
              "\n",
              "    .dataframe tbody tr th {\n",
              "        vertical-align: top;\n",
              "    }\n",
              "\n",
              "    .dataframe thead th {\n",
              "        text-align: right;\n",
              "    }\n",
              "</style>\n",
              "<table border=\"1\" class=\"dataframe\">\n",
              "  <thead>\n",
              "    <tr style=\"text-align: right;\">\n",
              "      <th></th>\n",
              "      <th>Y_test</th>\n",
              "      <th>Y_pred_lr</th>\n",
              "    </tr>\n",
              "  </thead>\n",
              "  <tbody>\n",
              "    <tr>\n",
              "      <th>173</th>\n",
              "      <td>23.6</td>\n",
              "      <td>28.65</td>\n",
              "    </tr>\n",
              "    <tr>\n",
              "      <th>274</th>\n",
              "      <td>32.4</td>\n",
              "      <td>36.50</td>\n",
              "    </tr>\n",
              "    <tr>\n",
              "      <th>491</th>\n",
              "      <td>13.6</td>\n",
              "      <td>15.41</td>\n",
              "    </tr>\n",
              "    <tr>\n",
              "      <th>72</th>\n",
              "      <td>22.8</td>\n",
              "      <td>25.40</td>\n",
              "    </tr>\n",
              "    <tr>\n",
              "      <th>452</th>\n",
              "      <td>16.1</td>\n",
              "      <td>18.86</td>\n",
              "    </tr>\n",
              "  </tbody>\n",
              "</table>\n",
              "</div>"
            ],
            "text/plain": [
              "     Y_test  Y_pred_lr\n",
              "173    23.6      28.65\n",
              "274    32.4      36.50\n",
              "491    13.6      15.41\n",
              "72     22.8      25.40\n",
              "452    16.1      18.86"
            ]
          },
          "metadata": {
            "tags": []
          },
          "execution_count": 49
        }
      ]
    },
    {
      "cell_type": "markdown",
      "metadata": {
        "id": "ZIljV4VxO6RV",
        "colab_type": "text"
      },
      "source": [
        "Вычислите R2 полученных предказаний с помощью r2_score из модуля sklearn.metrics."
      ]
    },
    {
      "cell_type": "code",
      "metadata": {
        "id": "IQjFmhn7Ntim",
        "colab_type": "code",
        "colab": {}
      },
      "source": [
        "from sklearn.metrics import r2_score\n"
      ],
      "execution_count": 0,
      "outputs": []
    },
    {
      "cell_type": "code",
      "metadata": {
        "id": "iSVj8Y9fNu-G",
        "colab_type": "code",
        "colab": {
          "base_uri": "https://localhost:8080/",
          "height": 34
        },
        "outputId": "8b10509e-23d7-42c6-f576-a62c5fa7323f"
      },
      "source": [
        "r2_score(Y_test, y_pred_lr)"
      ],
      "execution_count": 53,
      "outputs": [
        {
          "output_type": "execute_result",
          "data": {
            "text/plain": [
              "0.7112260057484974"
            ]
          },
          "metadata": {
            "tags": []
          },
          "execution_count": 53
        }
      ]
    },
    {
      "cell_type": "markdown",
      "metadata": {
        "id": "1UF9X_WYtdGF",
        "colab_type": "text"
      },
      "source": [
        "## Задание 2\n",
        "Создайте модель под названием model с помощью RandomForestRegressor из модуля sklearn.ensemble.\n",
        "\n",
        "Сделайте агрумент n_estimators равным 1000, max_depth должен быть равен 12 и random_state сделайте равным 42.\n",
        "\n",
        "Обучите модель на тренировочных данных аналогично тому, как вы обучали модель LinearRegression, но при этом в метод fit вместо датафрейма y_train поставьте y_train.values[:, 0], чтобы получить из датафрейма одномерный массив Numpy, так как для класса RandomForestRegressor в данном методе для аргумента y предпочтительно применение массивов вместо датафрейма.\n",
        "\n",
        "Сделайте предсказание на тестовых данных и посчитайте R2. Сравните с результатом из предыдущего задания.\n",
        "\n",
        "Напишите в комментариях к коду, какая модель в данном случае работает лучше.\n"
      ]
    },
    {
      "cell_type": "code",
      "metadata": {
        "id": "_2V09lrXtcVD",
        "colab_type": "code",
        "outputId": "0a0f9682-77a6-4b30-c62c-1808ea53383c",
        "colab": {
          "base_uri": "https://localhost:8080/",
          "height": 136
        }
      },
      "source": [
        "from sklearn.ensemble import RandomForestRegressor\n",
        "\n",
        "\n",
        "clf = RandomForestRegressor(n_estimators=1000, max_depth=12, random_state=42)\n",
        "clf.fit(X_train, Y_train.values[:, 0])"
      ],
      "execution_count": 57,
      "outputs": [
        {
          "output_type": "execute_result",
          "data": {
            "text/plain": [
              "RandomForestRegressor(bootstrap=True, ccp_alpha=0.0, criterion='mse',\n",
              "                      max_depth=12, max_features='auto', max_leaf_nodes=None,\n",
              "                      max_samples=None, min_impurity_decrease=0.0,\n",
              "                      min_impurity_split=None, min_samples_leaf=1,\n",
              "                      min_samples_split=2, min_weight_fraction_leaf=0.0,\n",
              "                      n_estimators=1000, n_jobs=None, oob_score=False,\n",
              "                      random_state=42, verbose=0, warm_start=False)"
            ]
          },
          "metadata": {
            "tags": []
          },
          "execution_count": 57
        }
      ]
    },
    {
      "cell_type": "code",
      "metadata": {
        "id": "cb2kN31tTftl",
        "colab_type": "code",
        "colab": {
          "base_uri": "https://localhost:8080/",
          "height": 204
        },
        "outputId": "2c3630c6-f813-4371-9452-80c1fe6a01bc"
      },
      "source": [
        "y_pred_clf = clf.predict(X_test)\n",
        "check_test_clf = pd.DataFrame({\n",
        "    \"Y_test\": Y_test[\"price\"], \n",
        "    \"Y_pred_clf\": y_pred_clf.flatten()})\n",
        "\n",
        "check_test_clf.head()"
      ],
      "execution_count": 58,
      "outputs": [
        {
          "output_type": "execute_result",
          "data": {
            "text/html": [
              "<div>\n",
              "<style scoped>\n",
              "    .dataframe tbody tr th:only-of-type {\n",
              "        vertical-align: middle;\n",
              "    }\n",
              "\n",
              "    .dataframe tbody tr th {\n",
              "        vertical-align: top;\n",
              "    }\n",
              "\n",
              "    .dataframe thead th {\n",
              "        text-align: right;\n",
              "    }\n",
              "</style>\n",
              "<table border=\"1\" class=\"dataframe\">\n",
              "  <thead>\n",
              "    <tr style=\"text-align: right;\">\n",
              "      <th></th>\n",
              "      <th>Y_test</th>\n",
              "      <th>Y_pred_clf</th>\n",
              "    </tr>\n",
              "  </thead>\n",
              "  <tbody>\n",
              "    <tr>\n",
              "      <th>173</th>\n",
              "      <td>23.6</td>\n",
              "      <td>22.85</td>\n",
              "    </tr>\n",
              "    <tr>\n",
              "      <th>274</th>\n",
              "      <td>32.4</td>\n",
              "      <td>31.16</td>\n",
              "    </tr>\n",
              "    <tr>\n",
              "      <th>491</th>\n",
              "      <td>13.6</td>\n",
              "      <td>16.30</td>\n",
              "    </tr>\n",
              "    <tr>\n",
              "      <th>72</th>\n",
              "      <td>22.8</td>\n",
              "      <td>23.82</td>\n",
              "    </tr>\n",
              "    <tr>\n",
              "      <th>452</th>\n",
              "      <td>16.1</td>\n",
              "      <td>17.21</td>\n",
              "    </tr>\n",
              "  </tbody>\n",
              "</table>\n",
              "</div>"
            ],
            "text/plain": [
              "     Y_test  Y_pred_clf\n",
              "173    23.6       22.85\n",
              "274    32.4       31.16\n",
              "491    13.6       16.30\n",
              "72     22.8       23.82\n",
              "452    16.1       17.21"
            ]
          },
          "metadata": {
            "tags": []
          },
          "execution_count": 58
        }
      ]
    },
    {
      "cell_type": "code",
      "metadata": {
        "colab_type": "code",
        "outputId": "484943c2-661e-43c1-bb55-dddf36ba5eeb",
        "id": "nRoQOJoVTnqu",
        "colab": {
          "base_uri": "https://localhost:8080/",
          "height": 34
        }
      },
      "source": [
        "r2_score(Y_test, y_pred_clf)"
      ],
      "execution_count": 59,
      "outputs": [
        {
          "output_type": "execute_result",
          "data": {
            "text/plain": [
              "0.8749965273218174"
            ]
          },
          "metadata": {
            "tags": []
          },
          "execution_count": 59
        }
      ]
    },
    {
      "cell_type": "code",
      "metadata": {
        "id": "qlmQA3rTUsi4",
        "colab_type": "code",
        "colab": {
          "base_uri": "https://localhost:8080/",
          "height": 102
        },
        "outputId": "646006ff-1744-427a-f7b1-cbc7de0208c9"
      },
      "source": [
        "print(\"Результаты Линейной регресии: \\n\", r2_score(Y_test, y_pred_lr))\n",
        "print('~~~~~~~~~~~~~~~~~~~~~~~~~~~~~~~~~')\n",
        "print(\"Результаты Случайный лес: \\n\", r2_score(Y_test, y_pred_clf))"
      ],
      "execution_count": 60,
      "outputs": [
        {
          "output_type": "stream",
          "text": [
            "Результаты Линейной регресии: \n",
            " 0.7112260057484974\n",
            "~~~~~~~~~~~~~~~~~~~~~~~~~~~~~~~~~\n",
            "Результаты Случайный лес: \n",
            " 0.8749965273218174\n"
          ],
          "name": "stdout"
        }
      ]
    },
    {
      "cell_type": "markdown",
      "metadata": {
        "id": "ub933yqTUbli",
        "colab_type": "text"
      },
      "source": [
        "Алгоритм \"Случайный лес\" показывает более точные результаты, чем \"линейная регрессия\"."
      ]
    },
    {
      "cell_type": "markdown",
      "metadata": {
        "id": "osMWngmtVFE_",
        "colab_type": "text"
      },
      "source": [
        "## * Задание 3\n",
        "Вызовите документацию для класса , найдите информацию об атрибуте featureimportances.\n",
        "\n",
        "С помощью этого атрибута найдите сумму всех показателей важности, установите, какие два признака показывают наибольшую важность."
      ]
    },
    {
      "cell_type": "code",
      "metadata": {
        "id": "sCP-1o29wofp",
        "colab_type": "code",
        "outputId": "8c8a1faa-ce37-43e3-ab47-8de13897d651",
        "colab": {
          "base_uri": "https://localhost:8080/",
          "height": 68
        }
      },
      "source": [
        "print(clf.feature_importances_)"
      ],
      "execution_count": 61,
      "outputs": [
        {
          "output_type": "stream",
          "text": [
            "[0.03211748 0.00154999 0.0070941  0.0011488  0.01436832 0.40270459\n",
            " 0.01424477 0.06403265 0.00496762 0.01169177 0.01808961 0.0123114\n",
            " 0.41567892]\n"
          ],
          "name": "stdout"
        }
      ]
    },
    {
      "cell_type": "code",
      "metadata": {
        "id": "DO81AQ1dVeX7",
        "colab_type": "code",
        "colab": {
          "base_uri": "https://localhost:8080/",
          "height": 452
        },
        "outputId": "b4959cf9-da1e-4af7-c776-ecd4d70a371c"
      },
      "source": [
        "feature_importance = pd.DataFrame({'name':X.columns, \n",
        "                                   'feature_importance':clf.feature_importances_}, \n",
        "                                  columns=['feature_importance', 'name'])\n",
        "feature_importance"
      ],
      "execution_count": 62,
      "outputs": [
        {
          "output_type": "execute_result",
          "data": {
            "text/html": [
              "<div>\n",
              "<style scoped>\n",
              "    .dataframe tbody tr th:only-of-type {\n",
              "        vertical-align: middle;\n",
              "    }\n",
              "\n",
              "    .dataframe tbody tr th {\n",
              "        vertical-align: top;\n",
              "    }\n",
              "\n",
              "    .dataframe thead th {\n",
              "        text-align: right;\n",
              "    }\n",
              "</style>\n",
              "<table border=\"1\" class=\"dataframe\">\n",
              "  <thead>\n",
              "    <tr style=\"text-align: right;\">\n",
              "      <th></th>\n",
              "      <th>feature_importance</th>\n",
              "      <th>name</th>\n",
              "    </tr>\n",
              "  </thead>\n",
              "  <tbody>\n",
              "    <tr>\n",
              "      <th>0</th>\n",
              "      <td>3.21e-02</td>\n",
              "      <td>CRIM</td>\n",
              "    </tr>\n",
              "    <tr>\n",
              "      <th>1</th>\n",
              "      <td>1.55e-03</td>\n",
              "      <td>ZN</td>\n",
              "    </tr>\n",
              "    <tr>\n",
              "      <th>2</th>\n",
              "      <td>7.09e-03</td>\n",
              "      <td>INDUS</td>\n",
              "    </tr>\n",
              "    <tr>\n",
              "      <th>3</th>\n",
              "      <td>1.15e-03</td>\n",
              "      <td>CHAS</td>\n",
              "    </tr>\n",
              "    <tr>\n",
              "      <th>4</th>\n",
              "      <td>1.44e-02</td>\n",
              "      <td>NOX</td>\n",
              "    </tr>\n",
              "    <tr>\n",
              "      <th>5</th>\n",
              "      <td>4.03e-01</td>\n",
              "      <td>RM</td>\n",
              "    </tr>\n",
              "    <tr>\n",
              "      <th>6</th>\n",
              "      <td>1.42e-02</td>\n",
              "      <td>AGE</td>\n",
              "    </tr>\n",
              "    <tr>\n",
              "      <th>7</th>\n",
              "      <td>6.40e-02</td>\n",
              "      <td>DIS</td>\n",
              "    </tr>\n",
              "    <tr>\n",
              "      <th>8</th>\n",
              "      <td>4.97e-03</td>\n",
              "      <td>RAD</td>\n",
              "    </tr>\n",
              "    <tr>\n",
              "      <th>9</th>\n",
              "      <td>1.17e-02</td>\n",
              "      <td>TAX</td>\n",
              "    </tr>\n",
              "    <tr>\n",
              "      <th>10</th>\n",
              "      <td>1.81e-02</td>\n",
              "      <td>PTRATIO</td>\n",
              "    </tr>\n",
              "    <tr>\n",
              "      <th>11</th>\n",
              "      <td>1.23e-02</td>\n",
              "      <td>B</td>\n",
              "    </tr>\n",
              "    <tr>\n",
              "      <th>12</th>\n",
              "      <td>4.16e-01</td>\n",
              "      <td>LSTAT</td>\n",
              "    </tr>\n",
              "  </tbody>\n",
              "</table>\n",
              "</div>"
            ],
            "text/plain": [
              "    feature_importance     name\n",
              "0             3.21e-02     CRIM\n",
              "1             1.55e-03       ZN\n",
              "2             7.09e-03    INDUS\n",
              "3             1.15e-03     CHAS\n",
              "4             1.44e-02      NOX\n",
              "5             4.03e-01       RM\n",
              "6             1.42e-02      AGE\n",
              "7             6.40e-02      DIS\n",
              "8             4.97e-03      RAD\n",
              "9             1.17e-02      TAX\n",
              "10            1.81e-02  PTRATIO\n",
              "11            1.23e-02        B\n",
              "12            4.16e-01    LSTAT"
            ]
          },
          "metadata": {
            "tags": []
          },
          "execution_count": 62
        }
      ]
    },
    {
      "cell_type": "markdown",
      "metadata": {
        "id": "X7lHM5CTuRTQ",
        "colab_type": "text"
      },
      "source": [
        "Найдем 2 признака имеющих наибольшую важность"
      ]
    },
    {
      "cell_type": "code",
      "metadata": {
        "id": "P1hq57C8Vunu",
        "colab_type": "code",
        "colab": {
          "base_uri": "https://localhost:8080/",
          "height": 111
        },
        "outputId": "e766c581-690d-4998-e7fc-821455176577"
      },
      "source": [
        "feature_importance.nlargest(2, 'feature_importance')"
      ],
      "execution_count": 63,
      "outputs": [
        {
          "output_type": "execute_result",
          "data": {
            "text/html": [
              "<div>\n",
              "<style scoped>\n",
              "    .dataframe tbody tr th:only-of-type {\n",
              "        vertical-align: middle;\n",
              "    }\n",
              "\n",
              "    .dataframe tbody tr th {\n",
              "        vertical-align: top;\n",
              "    }\n",
              "\n",
              "    .dataframe thead th {\n",
              "        text-align: right;\n",
              "    }\n",
              "</style>\n",
              "<table border=\"1\" class=\"dataframe\">\n",
              "  <thead>\n",
              "    <tr style=\"text-align: right;\">\n",
              "      <th></th>\n",
              "      <th>feature_importance</th>\n",
              "      <th>name</th>\n",
              "    </tr>\n",
              "  </thead>\n",
              "  <tbody>\n",
              "    <tr>\n",
              "      <th>12</th>\n",
              "      <td>0.42</td>\n",
              "      <td>LSTAT</td>\n",
              "    </tr>\n",
              "    <tr>\n",
              "      <th>5</th>\n",
              "      <td>0.40</td>\n",
              "      <td>RM</td>\n",
              "    </tr>\n",
              "  </tbody>\n",
              "</table>\n",
              "</div>"
            ],
            "text/plain": [
              "    feature_importance   name\n",
              "12                0.42  LSTAT\n",
              "5                 0.40     RM"
            ]
          },
          "metadata": {
            "tags": []
          },
          "execution_count": 63
        }
      ]
    },
    {
      "cell_type": "markdown",
      "metadata": {
        "id": "mvR9dHw8VyYM",
        "colab_type": "text"
      },
      "source": [
        "Признаки LSTAT и RM обладают наибольшей важностью."
      ]
    },
    {
      "cell_type": "markdown",
      "metadata": {
        "id": "c0X8daObWAyO",
        "colab_type": "text"
      },
      "source": [
        "## * Задание 4\n",
        "В этом задании мы будем работать с датасетом, с которым мы уже знакомы по домашнему заданию по библиотеке Matplotlib, это датасет Credit Card Fraud Detection.\n",
        "\n",
        "Для этого датасета мы будем решать задачу классификации - будем определять, какие из транзакциции по кредитной карте являются мошенническими.\n",
        "\n",
        "Данный датасет сильно несбалансирован (так как случаи мошенничества относительно редки), так что применение метрики accuracy не принесет пользы и не поможет выбрать лучшую модель.\n",
        "\n",
        "Мы будем вычислять AUC, то есть площадь под кривой ROC.\n",
        "\n",
        "Импортируйте из соответствующих модулей RandomForestClassifier, GridSearchCV и train_test_split.\n",
        "\n",
        "Загрузите датасет creditcard.csv и создайте датафрейм df.\n",
        "\n",
        "С помощью метода value_counts с аргументом normalize=True убедитесь в том, что выборка несбалансирована.\n",
        "\n",
        "Используя метод info, проверьте, все ли столбцы содержат числовые данные и нет ли в них пропусков.\n",
        "\n",
        "Примените следующую настройку, чтобы можно было просматривать все столбцы датафрейма:\n",
        "pd.options.display.max_columns = 100.\n",
        "\n",
        "Просмотрите первые 10 строк датафрейма df.\n",
        "\n",
        "Создайте датафрейм X из датафрейма df, исключив столбец Class.\n",
        "\n",
        "Создайте объект Series под названием y из столбца Class.\n",
        "\n",
        "Разбейте X и y на тренировочный и тестовый наборы данных при помощи функции train_test_split, используя аргументы: test_size=0.3, random_state=100, stratify=y.\n",
        "\n",
        "У вас должны получиться объекты X_train, X_test, y_train и y_test.\n",
        "Просмотрите информацию о их форме.\n",
        "\n",
        "Для поиска по сетке параметров задайте такие параметры:\n",
        "\n",
        "parameters = [{'n_estimators': [10, 15],\n",
        "\n",
        "'max_features': np.arange(3, 5),\n",
        "\n",
        "'max_depth': np.arange(4, 7)}]\n",
        "\n",
        "Создайте модель GridSearchCV со следующими аргументами:\n",
        "\n",
        "estimator=RandomForestClassifier(random_state=100),\n",
        "\n",
        "param_grid=parameters,\n",
        "\n",
        "scoring='roc_auc',\n",
        "\n",
        "cv=3.\n",
        "\n",
        "Обучите модель на тренировочном наборе данных (может занять несколько минут).\n",
        "\n",
        "Просмотрите параметры лучшей модели с помощью атрибута bestparams.\n",
        "\n",
        "Предскажите вероятности классов с помощью полученнной модели и метода predict_proba.\n",
        "\n",
        "Из полученного результата (массив Numpy) выберите столбец с индексом 1 (вероятность класса 1) и запишите в массив y_pred_proba.\n",
        "\n",
        "Из модуля sklearn.metrics импортируйте метрику roc_auc_score.\n",
        "\n",
        "Вычислите AUC на тестовых данных и сравните с результатом, полученным на тренировочных данных, используя в качестве аргументов массивы y_test и y_pred_proba."
      ]
    },
    {
      "cell_type": "code",
      "metadata": {
        "id": "toYwLARVAXxW",
        "colab_type": "code",
        "colab": {}
      },
      "source": [
        "from google.colab import files\n",
        "from sklearn.model_selection import GridSearchCV\n",
        "from sklearn.ensemble import RandomForestClassifier\n",
        "##метрики\n",
        "from sklearn.metrics import accuracy_score,auc, f1_score, confusion_matrix,precision_score, recall_score, roc_auc_score, roc_curve"
      ],
      "execution_count": 0,
      "outputs": []
    },
    {
      "cell_type": "code",
      "metadata": {
        "id": "3ogmyik6_KXC",
        "colab_type": "code",
        "outputId": "35d270d1-5eb2-4332-c865-40f419802c5f",
        "colab": {
          "resources": {
            "http://localhost:8080/nbextensions/google.colab/files.js": {
              "data": "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",
              "ok": true,
              "headers": [
                [
                  "content-type",
                  "application/javascript"
                ]
              ],
              "status": 200,
              "status_text": ""
            }
          },
          "base_uri": "https://localhost:8080/",
          "height": 74
        }
      },
      "source": [
        "file = files.upload()"
      ],
      "execution_count": 67,
      "outputs": [
        {
          "output_type": "display_data",
          "data": {
            "text/html": [
              "\n",
              "     <input type=\"file\" id=\"files-a68a55d9-c968-4662-87ea-c8d85aa58719\" name=\"files[]\" multiple disabled />\n",
              "     <output id=\"result-a68a55d9-c968-4662-87ea-c8d85aa58719\">\n",
              "      Upload widget is only available when the cell has been executed in the\n",
              "      current browser session. Please rerun this cell to enable.\n",
              "      </output>\n",
              "      <script src=\"/nbextensions/google.colab/files.js\"></script> "
            ],
            "text/plain": [
              "<IPython.core.display.HTML object>"
            ]
          },
          "metadata": {
            "tags": []
          }
        },
        {
          "output_type": "stream",
          "text": [
            "Saving creditcard.csv to creditcard.csv\n"
          ],
          "name": "stdout"
        }
      ]
    },
    {
      "cell_type": "code",
      "metadata": {
        "id": "1GQJedy2AcQP",
        "colab_type": "code",
        "outputId": "598d4d40-ec4b-419e-cf00-a01d9931a3f8",
        "colab": {
          "base_uri": "https://localhost:8080/",
          "height": 918
        }
      },
      "source": [
        "df = pd.read_csv('creditcard.csv')\n",
        "print(df)"
      ],
      "execution_count": 69,
      "outputs": [
        {
          "output_type": "stream",
          "text": [
            "            Time     V1     V2    V3    V4    V5    V6    V7    V8    V9  \\\n",
            "0            0.0  -1.36  -0.07  2.54  1.38 -0.34  0.46  0.24  0.10  0.36   \n",
            "1            0.0   1.19   0.27  0.17  0.45  0.06 -0.08 -0.08  0.09 -0.26   \n",
            "2            1.0  -1.36  -1.34  1.77  0.38 -0.50  1.80  0.79  0.25 -1.51   \n",
            "3            1.0  -0.97  -0.19  1.79 -0.86 -0.01  1.25  0.24  0.38 -1.39   \n",
            "4            2.0  -1.16   0.88  1.55  0.40 -0.41  0.10  0.59 -0.27  0.82   \n",
            "...          ...    ...    ...   ...   ...   ...   ...   ...   ...   ...   \n",
            "284802  172786.0 -11.88  10.07 -9.83 -2.07 -5.36 -2.61 -4.92  7.31  1.91   \n",
            "284803  172787.0  -0.73  -0.06  2.04 -0.74  0.87  1.06  0.02  0.29  0.58   \n",
            "284804  172788.0   1.92  -0.30 -3.25 -0.56  2.63  3.03 -0.30  0.71  0.43   \n",
            "284805  172788.0  -0.24   0.53  0.70  0.69 -0.38  0.62 -0.69  0.68  0.39   \n",
            "284806  172792.0  -0.53  -0.19  0.70 -0.51 -0.01 -0.65  1.58 -0.41  0.49   \n",
            "\n",
            "         V10   V11   V12   V13   V14   V15   V16   V17   V18   V19       V20  \\\n",
            "0       0.09 -0.55 -0.62 -0.99 -0.31  1.47 -0.47  0.21  0.03  0.40  2.51e-01   \n",
            "1      -0.17  1.61  1.07  0.49 -0.14  0.64  0.46 -0.11 -0.18 -0.15 -6.91e-02   \n",
            "2       0.21  0.62  0.07  0.72 -0.17  2.35 -2.89  1.11 -0.12 -2.26  5.25e-01   \n",
            "3      -0.05 -0.23  0.18  0.51 -0.29 -0.63 -1.06 -0.68  1.97 -1.23 -2.08e-01   \n",
            "4       0.75 -0.82  0.54  1.35 -1.12  0.18 -0.45 -0.24 -0.04  0.80  4.09e-01   \n",
            "...      ...   ...   ...   ...   ...   ...   ...   ...   ...   ...       ...   \n",
            "284802  4.36 -1.59  2.71 -0.69  4.63 -0.92  1.11  1.99  0.51 -0.68  1.48e+00   \n",
            "284803 -0.98 -0.15  0.92  1.21 -0.68  1.16 -0.71 -0.03 -1.22 -1.55  5.96e-02   \n",
            "284804 -0.48  0.41  0.06 -0.18 -0.51  1.33  0.14  0.31  0.40 -0.58  1.40e-03   \n",
            "284805 -0.40 -1.93 -0.96 -1.04  0.45  1.96 -0.61  0.51  1.11  2.90  1.27e-01   \n",
            "284806 -0.92 -1.04 -0.03 -0.19 -0.08  0.04 -0.30 -0.66  0.17 -0.26  3.83e-01   \n",
            "\n",
            "             V21       V22   V23       V24   V25   V26       V27   V28  \\\n",
            "0      -1.83e-02  2.78e-01 -0.11  6.69e-02  0.13 -0.19  1.34e-01 -0.02   \n",
            "1      -2.26e-01 -6.39e-01  0.10 -3.40e-01  0.17  0.13 -8.98e-03  0.01   \n",
            "2       2.48e-01  7.72e-01  0.91 -6.89e-01 -0.33 -0.14 -5.54e-02 -0.06   \n",
            "3      -1.08e-01  5.27e-03 -0.19 -1.18e+00  0.65 -0.22  6.27e-02  0.06   \n",
            "4      -9.43e-03  7.98e-01 -0.14  1.41e-01 -0.21  0.50  2.19e-01  0.22   \n",
            "...          ...       ...   ...       ...   ...   ...       ...   ...   \n",
            "284802  2.13e-01  1.12e-01  1.01 -5.09e-01  1.44  0.25  9.44e-01  0.82   \n",
            "284803  2.14e-01  9.24e-01  0.01 -1.02e+00 -0.61 -0.40  6.85e-02 -0.05   \n",
            "284804  2.32e-01  5.78e-01 -0.04  6.40e-01  0.27 -0.09  4.45e-03 -0.03   \n",
            "284805  2.65e-01  8.00e-01 -0.16  1.23e-01 -0.57  0.55  1.09e-01  0.10   \n",
            "284806  2.61e-01  6.43e-01  0.38  8.80e-03 -0.47 -0.82 -2.42e-03  0.01   \n",
            "\n",
            "        Amount  Class  \n",
            "0       149.62      0  \n",
            "1         2.69      0  \n",
            "2       378.66      0  \n",
            "3       123.50      0  \n",
            "4        69.99      0  \n",
            "...        ...    ...  \n",
            "284802    0.77      0  \n",
            "284803   24.79      0  \n",
            "284804   67.88      0  \n",
            "284805   10.00      0  \n",
            "284806  217.00      0  \n",
            "\n",
            "[284807 rows x 31 columns]\n"
          ],
          "name": "stdout"
        }
      ]
    },
    {
      "cell_type": "markdown",
      "metadata": {
        "id": "pV5wi1UtDvA-",
        "colab_type": "text"
      },
      "source": [
        "## Вспомогательные свои функции"
      ]
    },
    {
      "cell_type": "code",
      "metadata": {
        "id": "fBcimHNtBspD",
        "colab_type": "code",
        "colab": {}
      },
      "source": [
        "## Просмотр данных\n",
        "def prosmotr(data):\n",
        "  pd.set_option('display.max_columns', 100) #Размеры таблицы\n",
        "  pd.set_option('display.max_rows', 100)\n",
        "  pd.set_option('precision', 2) #Регулируем количество знаков после запятой:\n",
        "  print('~~~~Содержание данных~~~~\\n', data.head())\n",
        "  print('~~~~~~~~~~~~~~~~~~~~~~~~~~~~~~~~~')\n",
        "  print('~~~Размеры данных~~~\\n', data.shape)\n",
        "  print('~~~~~~~~~~~~~~~~~~~~~~~~~~~~~~~~~')\n",
        "  print('~~~Названия колонок~~~\\n', data.columns)\n",
        "  print('~~~~~~~~~~~~~~~~~~~~~~~~~~~~~~~~~')\n",
        "  print('~~~Информация о данных~~~\\n')\n",
        "  print(data.info())\n",
        "  print('~~~~~~~~~~~~~~~~~~~~~~~~~~~~~~~~~')\n",
        "  print('~~~Наличие пропусков в данных~~~\\n', data.isna().sum())\n",
        "  print('~~~~~~~~~~~~~~~~~~~~~~~~~~~~~~~~~')\n",
        "  print('~~~Количество типов в данных~~~')\n",
        "  print(data.dtypes.value_counts())\n",
        "  print('~~~~~~~~~~~~~~~~~~~~~~~~~~~~~~~~~')\n",
        "  kateg = list(data.select_dtypes(include=['object']).columns) # Делаем список категориальных данных\n",
        "  print('~~~Категориальные данные~~~~')\n",
        "  print(kateg)\n",
        "  print('~~~~~~~~~~~~~~~~~~~~~~~~~~~~~~~~~')\n",
        "  chislov_float = list(data.select_dtypes(include=['float64'])) #Делаем список числовых данных float\n",
        "  print('~~~Числове данные float~~~~')\n",
        "  print(chislov_float)\n",
        "  print('~~~~~~~~~~~~~~~~~~~~~~~~~~~~~~~~~')\n",
        "  chislov_int = list(data.select_dtypes(include=['int64'])) #Делаем список числовых данных int\n",
        "  print('~~~Числове данные int~~~~')\n",
        "  print(chislov_int)\n",
        "  print('~~~~~~~~~~~~~~~~~~~~~~~~~~~~~~~~~')\n",
        "  print('~~~Основные статистические характеристики данных по каждому числовому признаку (типы int64)~~~\\n', data.describe(include=['int64']))\n",
        "  print('~~~~~~~~~~~~~~~~~~~~~~~~~~~~~~~~~')\n",
        "  print('~~~~~~~~~~~~~~~~~~~~~~~~~~~~~~~~~')\n",
        "  print('~~~Основные статистические характеристики данных по каждому числовому признаку (типы float64)~~~\\n', data.describe(include=['float64']))\n",
        "  print('~~~~~~~~~~~~~~~~~~~~~~~~~~~~~~~~~')\n",
        "#  print('~~~Cтатистика по нечисловым признакам object ~~~\\n', data.describe(include=['object']))\n",
        "#  print('~~~~~~~~~~~~~~~~~~~~~~~~~~~~~~~~~')\n",
        "#  print('~~~~~~~~~~~~~~~~~~~~~~~~~~~~~~~~~')\n",
        "#  print('~~~Cтатистика по нечисловым признакам bool ~~~\\n', data.describe(include=['bool']))\n",
        "#  print('~~~~~~~~~~~~~~~~~~~~~~~~~~~~~~~~~')"
      ],
      "execution_count": 0,
      "outputs": []
    },
    {
      "cell_type": "code",
      "metadata": {
        "id": "gAXXzCzJCJQI",
        "colab_type": "code",
        "outputId": "cb05d746-7cc5-48de-f5d2-9f50f44eb567",
        "colab": {
          "base_uri": "https://localhost:8080/",
          "height": 1000
        }
      },
      "source": [
        "prosmotr(df)"
      ],
      "execution_count": 72,
      "outputs": [
        {
          "output_type": "stream",
          "text": [
            "~~~~Содержание данных~~~~\n",
            "    Time    V1    V2    V3    V4    V5    V6    V7    V8    V9   V10   V11  \\\n",
            "0   0.0 -1.36 -0.07  2.54  1.38 -0.34  0.46  0.24  0.10  0.36  0.09 -0.55   \n",
            "1   0.0  1.19  0.27  0.17  0.45  0.06 -0.08 -0.08  0.09 -0.26 -0.17  1.61   \n",
            "2   1.0 -1.36 -1.34  1.77  0.38 -0.50  1.80  0.79  0.25 -1.51  0.21  0.62   \n",
            "3   1.0 -0.97 -0.19  1.79 -0.86 -0.01  1.25  0.24  0.38 -1.39 -0.05 -0.23   \n",
            "4   2.0 -1.16  0.88  1.55  0.40 -0.41  0.10  0.59 -0.27  0.82  0.75 -0.82   \n",
            "\n",
            "    V12   V13   V14   V15   V16   V17   V18   V19   V20       V21       V22  \\\n",
            "0 -0.62 -0.99 -0.31  1.47 -0.47  0.21  0.03  0.40  0.25 -1.83e-02  2.78e-01   \n",
            "1  1.07  0.49 -0.14  0.64  0.46 -0.11 -0.18 -0.15 -0.07 -2.26e-01 -6.39e-01   \n",
            "2  0.07  0.72 -0.17  2.35 -2.89  1.11 -0.12 -2.26  0.52  2.48e-01  7.72e-01   \n",
            "3  0.18  0.51 -0.29 -0.63 -1.06 -0.68  1.97 -1.23 -0.21 -1.08e-01  5.27e-03   \n",
            "4  0.54  1.35 -1.12  0.18 -0.45 -0.24 -0.04  0.80  0.41 -9.43e-03  7.98e-01   \n",
            "\n",
            "    V23   V24   V25   V26       V27   V28  Amount  Class  \n",
            "0 -0.11  0.07  0.13 -0.19  1.34e-01 -0.02  149.62      0  \n",
            "1  0.10 -0.34  0.17  0.13 -8.98e-03  0.01    2.69      0  \n",
            "2  0.91 -0.69 -0.33 -0.14 -5.54e-02 -0.06  378.66      0  \n",
            "3 -0.19 -1.18  0.65 -0.22  6.27e-02  0.06  123.50      0  \n",
            "4 -0.14  0.14 -0.21  0.50  2.19e-01  0.22   69.99      0  \n",
            "~~~~~~~~~~~~~~~~~~~~~~~~~~~~~~~~~\n",
            "~~~Размеры данных~~~\n",
            " (284807, 31)\n",
            "~~~~~~~~~~~~~~~~~~~~~~~~~~~~~~~~~\n",
            "~~~Названия колонок~~~\n",
            " Index(['Time', 'V1', 'V2', 'V3', 'V4', 'V5', 'V6', 'V7', 'V8', 'V9', 'V10',\n",
            "       'V11', 'V12', 'V13', 'V14', 'V15', 'V16', 'V17', 'V18', 'V19', 'V20',\n",
            "       'V21', 'V22', 'V23', 'V24', 'V25', 'V26', 'V27', 'V28', 'Amount',\n",
            "       'Class'],\n",
            "      dtype='object')\n",
            "~~~~~~~~~~~~~~~~~~~~~~~~~~~~~~~~~\n",
            "~~~Информация о данных~~~\n",
            "\n",
            "<class 'pandas.core.frame.DataFrame'>\n",
            "RangeIndex: 284807 entries, 0 to 284806\n",
            "Data columns (total 31 columns):\n",
            "Time      284807 non-null float64\n",
            "V1        284807 non-null float64\n",
            "V2        284807 non-null float64\n",
            "V3        284807 non-null float64\n",
            "V4        284807 non-null float64\n",
            "V5        284807 non-null float64\n",
            "V6        284807 non-null float64\n",
            "V7        284807 non-null float64\n",
            "V8        284807 non-null float64\n",
            "V9        284807 non-null float64\n",
            "V10       284807 non-null float64\n",
            "V11       284807 non-null float64\n",
            "V12       284807 non-null float64\n",
            "V13       284807 non-null float64\n",
            "V14       284807 non-null float64\n",
            "V15       284807 non-null float64\n",
            "V16       284807 non-null float64\n",
            "V17       284807 non-null float64\n",
            "V18       284807 non-null float64\n",
            "V19       284807 non-null float64\n",
            "V20       284807 non-null float64\n",
            "V21       284807 non-null float64\n",
            "V22       284807 non-null float64\n",
            "V23       284807 non-null float64\n",
            "V24       284807 non-null float64\n",
            "V25       284807 non-null float64\n",
            "V26       284807 non-null float64\n",
            "V27       284807 non-null float64\n",
            "V28       284807 non-null float64\n",
            "Amount    284807 non-null float64\n",
            "Class     284807 non-null int64\n",
            "dtypes: float64(30), int64(1)\n",
            "memory usage: 67.4 MB\n",
            "None\n",
            "~~~~~~~~~~~~~~~~~~~~~~~~~~~~~~~~~\n",
            "~~~Наличие пропусков в данных~~~\n",
            " Time      0\n",
            "V1        0\n",
            "V2        0\n",
            "V3        0\n",
            "V4        0\n",
            "V5        0\n",
            "V6        0\n",
            "V7        0\n",
            "V8        0\n",
            "V9        0\n",
            "V10       0\n",
            "V11       0\n",
            "V12       0\n",
            "V13       0\n",
            "V14       0\n",
            "V15       0\n",
            "V16       0\n",
            "V17       0\n",
            "V18       0\n",
            "V19       0\n",
            "V20       0\n",
            "V21       0\n",
            "V22       0\n",
            "V23       0\n",
            "V24       0\n",
            "V25       0\n",
            "V26       0\n",
            "V27       0\n",
            "V28       0\n",
            "Amount    0\n",
            "Class     0\n",
            "dtype: int64\n",
            "~~~~~~~~~~~~~~~~~~~~~~~~~~~~~~~~~\n",
            "~~~Количество типов в данных~~~\n",
            "float64    30\n",
            "int64       1\n",
            "dtype: int64\n",
            "~~~~~~~~~~~~~~~~~~~~~~~~~~~~~~~~~\n",
            "~~~Категориальные данные~~~~\n",
            "[]\n",
            "~~~~~~~~~~~~~~~~~~~~~~~~~~~~~~~~~\n",
            "~~~Числове данные float~~~~\n",
            "['Time', 'V1', 'V2', 'V3', 'V4', 'V5', 'V6', 'V7', 'V8', 'V9', 'V10', 'V11', 'V12', 'V13', 'V14', 'V15', 'V16', 'V17', 'V18', 'V19', 'V20', 'V21', 'V22', 'V23', 'V24', 'V25', 'V26', 'V27', 'V28', 'Amount']\n",
            "~~~~~~~~~~~~~~~~~~~~~~~~~~~~~~~~~\n",
            "~~~Числове данные int~~~~\n",
            "['Class']\n",
            "~~~~~~~~~~~~~~~~~~~~~~~~~~~~~~~~~\n",
            "~~~Основные статистические характеристики данных по каждому числовому признаку (типы int64)~~~\n",
            "           Class\n",
            "count  2.85e+05\n",
            "mean   1.73e-03\n",
            "std    4.15e-02\n",
            "min    0.00e+00\n",
            "25%    0.00e+00\n",
            "50%    0.00e+00\n",
            "75%    0.00e+00\n",
            "max    1.00e+00\n",
            "~~~~~~~~~~~~~~~~~~~~~~~~~~~~~~~~~\n",
            "~~~~~~~~~~~~~~~~~~~~~~~~~~~~~~~~~\n",
            "~~~Основные статистические характеристики данных по каждому числовому признаку (типы float64)~~~\n",
            "             Time        V1        V2        V3        V4        V5        V6  \\\n",
            "count  284807.00  2.85e+05  2.85e+05  2.85e+05  2.85e+05  2.85e+05  2.85e+05   \n",
            "mean    94813.86  3.92e-15  5.69e-16 -8.77e-15  2.78e-15 -1.55e-15  2.01e-15   \n",
            "std     47488.15  1.96e+00  1.65e+00  1.52e+00  1.42e+00  1.38e+00  1.33e+00   \n",
            "min         0.00 -5.64e+01 -7.27e+01 -4.83e+01 -5.68e+00 -1.14e+02 -2.62e+01   \n",
            "25%     54201.50 -9.20e-01 -5.99e-01 -8.90e-01 -8.49e-01 -6.92e-01 -7.68e-01   \n",
            "50%     84692.00  1.81e-02  6.55e-02  1.80e-01 -1.98e-02 -5.43e-02 -2.74e-01   \n",
            "75%    139320.50  1.32e+00  8.04e-01  1.03e+00  7.43e-01  6.12e-01  3.99e-01   \n",
            "max    172792.00  2.45e+00  2.21e+01  9.38e+00  1.69e+01  3.48e+01  7.33e+01   \n",
            "\n",
            "             V7        V8        V9       V10       V11       V12       V13  \\\n",
            "count  2.85e+05  2.85e+05  2.85e+05  2.85e+05  2.85e+05  2.85e+05  2.85e+05   \n",
            "mean  -1.69e-15 -1.93e-16 -3.14e-15  1.77e-15  9.17e-16 -1.81e-15  1.69e-15   \n",
            "std    1.24e+00  1.19e+00  1.10e+00  1.09e+00  1.02e+00  9.99e-01  9.95e-01   \n",
            "min   -4.36e+01 -7.32e+01 -1.34e+01 -2.46e+01 -4.80e+00 -1.87e+01 -5.79e+00   \n",
            "25%   -5.54e-01 -2.09e-01 -6.43e-01 -5.35e-01 -7.62e-01 -4.06e-01 -6.49e-01   \n",
            "50%    4.01e-02  2.24e-02 -5.14e-02 -9.29e-02 -3.28e-02  1.40e-01 -1.36e-02   \n",
            "75%    5.70e-01  3.27e-01  5.97e-01  4.54e-01  7.40e-01  6.18e-01  6.63e-01   \n",
            "max    1.21e+02  2.00e+01  1.56e+01  2.37e+01  1.20e+01  7.85e+00  7.13e+00   \n",
            "\n",
            "            V14       V15       V16       V17       V18       V19       V20  \\\n",
            "count  2.85e+05  2.85e+05  2.85e+05  2.85e+05  2.85e+05  2.85e+05  2.85e+05   \n",
            "mean   1.48e-15  3.48e-15  1.39e-15 -7.53e-16  4.33e-16  9.05e-16  5.09e-16   \n",
            "std    9.59e-01  9.15e-01  8.76e-01  8.49e-01  8.38e-01  8.14e-01  7.71e-01   \n",
            "min   -1.92e+01 -4.50e+00 -1.41e+01 -2.52e+01 -9.50e+00 -7.21e+00 -5.45e+01   \n",
            "25%   -4.26e-01 -5.83e-01 -4.68e-01 -4.84e-01 -4.99e-01 -4.56e-01 -2.12e-01   \n",
            "50%    5.06e-02  4.81e-02  6.64e-02 -6.57e-02 -3.64e-03  3.73e-03 -6.25e-02   \n",
            "75%    4.93e-01  6.49e-01  5.23e-01  4.00e-01  5.01e-01  4.59e-01  1.33e-01   \n",
            "max    1.05e+01  8.88e+00  1.73e+01  9.25e+00  5.04e+00  5.59e+00  3.94e+01   \n",
            "\n",
            "            V21       V22       V23       V24       V25       V26       V27  \\\n",
            "count  2.85e+05  2.85e+05  2.85e+05  2.85e+05  2.85e+05  2.85e+05  2.85e+05   \n",
            "mean   1.54e-16  7.96e-16  5.37e-16  4.46e-15  1.45e-15  1.70e-15 -3.66e-16   \n",
            "std    7.35e-01  7.26e-01  6.24e-01  6.06e-01  5.21e-01  4.82e-01  4.04e-01   \n",
            "min   -3.48e+01 -1.09e+01 -4.48e+01 -2.84e+00 -1.03e+01 -2.60e+00 -2.26e+01   \n",
            "25%   -2.28e-01 -5.42e-01 -1.62e-01 -3.55e-01 -3.17e-01 -3.27e-01 -7.08e-02   \n",
            "50%   -2.95e-02  6.78e-03 -1.12e-02  4.10e-02  1.66e-02 -5.21e-02  1.34e-03   \n",
            "75%    1.86e-01  5.29e-01  1.48e-01  4.40e-01  3.51e-01  2.41e-01  9.10e-02   \n",
            "max    2.72e+01  1.05e+01  2.25e+01  4.58e+00  7.52e+00  3.52e+00  3.16e+01   \n",
            "\n",
            "            V28     Amount  \n",
            "count  2.85e+05  284807.00  \n",
            "mean  -1.21e-16      88.35  \n",
            "std    3.30e-01     250.12  \n",
            "min   -1.54e+01       0.00  \n",
            "25%   -5.30e-02       5.60  \n",
            "50%    1.12e-02      22.00  \n",
            "75%    7.83e-02      77.16  \n",
            "max    3.38e+01   25691.16  \n",
            "~~~~~~~~~~~~~~~~~~~~~~~~~~~~~~~~~\n"
          ],
          "name": "stdout"
        }
      ]
    },
    {
      "cell_type": "code",
      "metadata": {
        "id": "g9EKUnL9Yh0x",
        "colab_type": "code",
        "colab": {
          "base_uri": "https://localhost:8080/",
          "height": 68
        },
        "outputId": "32509bad-127a-4f0e-e55c-4415667a1ec7"
      },
      "source": [
        "df['Class'].value_counts(normalize=True)"
      ],
      "execution_count": 73,
      "outputs": [
        {
          "output_type": "execute_result",
          "data": {
            "text/plain": [
              "0    9.98e-01\n",
              "1    1.73e-03\n",
              "Name: Class, dtype: float64"
            ]
          },
          "metadata": {
            "tags": []
          },
          "execution_count": 73
        }
      ]
    },
    {
      "cell_type": "code",
      "metadata": {
        "id": "xlzBaaMrY1Q6",
        "colab_type": "code",
        "colab": {}
      },
      "source": [
        "pd.options.display.max_columns=100"
      ],
      "execution_count": 0,
      "outputs": []
    },
    {
      "cell_type": "code",
      "metadata": {
        "id": "ehh8BdXIY4ns",
        "colab_type": "code",
        "colab": {
          "base_uri": "https://localhost:8080/",
          "height": 359
        },
        "outputId": "f38678ca-fe3a-4d1a-b75b-c62b82a8da31"
      },
      "source": [
        "df.head(10)"
      ],
      "execution_count": 76,
      "outputs": [
        {
          "output_type": "execute_result",
          "data": {
            "text/html": [
              "<div>\n",
              "<style scoped>\n",
              "    .dataframe tbody tr th:only-of-type {\n",
              "        vertical-align: middle;\n",
              "    }\n",
              "\n",
              "    .dataframe tbody tr th {\n",
              "        vertical-align: top;\n",
              "    }\n",
              "\n",
              "    .dataframe thead th {\n",
              "        text-align: right;\n",
              "    }\n",
              "</style>\n",
              "<table border=\"1\" class=\"dataframe\">\n",
              "  <thead>\n",
              "    <tr style=\"text-align: right;\">\n",
              "      <th></th>\n",
              "      <th>Time</th>\n",
              "      <th>V1</th>\n",
              "      <th>V2</th>\n",
              "      <th>V3</th>\n",
              "      <th>V4</th>\n",
              "      <th>V5</th>\n",
              "      <th>V6</th>\n",
              "      <th>V7</th>\n",
              "      <th>V8</th>\n",
              "      <th>V9</th>\n",
              "      <th>V10</th>\n",
              "      <th>V11</th>\n",
              "      <th>V12</th>\n",
              "      <th>V13</th>\n",
              "      <th>V14</th>\n",
              "      <th>V15</th>\n",
              "      <th>V16</th>\n",
              "      <th>V17</th>\n",
              "      <th>V18</th>\n",
              "      <th>V19</th>\n",
              "      <th>V20</th>\n",
              "      <th>V21</th>\n",
              "      <th>V22</th>\n",
              "      <th>V23</th>\n",
              "      <th>V24</th>\n",
              "      <th>V25</th>\n",
              "      <th>V26</th>\n",
              "      <th>V27</th>\n",
              "      <th>V28</th>\n",
              "      <th>Amount</th>\n",
              "      <th>Class</th>\n",
              "    </tr>\n",
              "  </thead>\n",
              "  <tbody>\n",
              "    <tr>\n",
              "      <th>0</th>\n",
              "      <td>0.0</td>\n",
              "      <td>-1.36</td>\n",
              "      <td>-0.07</td>\n",
              "      <td>2.54</td>\n",
              "      <td>1.38</td>\n",
              "      <td>-0.34</td>\n",
              "      <td>0.46</td>\n",
              "      <td>2.40e-01</td>\n",
              "      <td>0.10</td>\n",
              "      <td>0.36</td>\n",
              "      <td>0.09</td>\n",
              "      <td>-0.55</td>\n",
              "      <td>-0.62</td>\n",
              "      <td>-0.99</td>\n",
              "      <td>-0.31</td>\n",
              "      <td>1.47</td>\n",
              "      <td>-0.47</td>\n",
              "      <td>2.08e-01</td>\n",
              "      <td>0.03</td>\n",
              "      <td>0.40</td>\n",
              "      <td>0.25</td>\n",
              "      <td>-1.83e-02</td>\n",
              "      <td>2.78e-01</td>\n",
              "      <td>-0.11</td>\n",
              "      <td>0.07</td>\n",
              "      <td>0.13</td>\n",
              "      <td>-0.19</td>\n",
              "      <td>1.34e-01</td>\n",
              "      <td>-2.11e-02</td>\n",
              "      <td>149.62</td>\n",
              "      <td>0</td>\n",
              "    </tr>\n",
              "    <tr>\n",
              "      <th>1</th>\n",
              "      <td>0.0</td>\n",
              "      <td>1.19</td>\n",
              "      <td>0.27</td>\n",
              "      <td>0.17</td>\n",
              "      <td>0.45</td>\n",
              "      <td>0.06</td>\n",
              "      <td>-0.08</td>\n",
              "      <td>-7.88e-02</td>\n",
              "      <td>0.09</td>\n",
              "      <td>-0.26</td>\n",
              "      <td>-0.17</td>\n",
              "      <td>1.61</td>\n",
              "      <td>1.07</td>\n",
              "      <td>0.49</td>\n",
              "      <td>-0.14</td>\n",
              "      <td>0.64</td>\n",
              "      <td>0.46</td>\n",
              "      <td>-1.15e-01</td>\n",
              "      <td>-0.18</td>\n",
              "      <td>-0.15</td>\n",
              "      <td>-0.07</td>\n",
              "      <td>-2.26e-01</td>\n",
              "      <td>-6.39e-01</td>\n",
              "      <td>0.10</td>\n",
              "      <td>-0.34</td>\n",
              "      <td>0.17</td>\n",
              "      <td>0.13</td>\n",
              "      <td>-8.98e-03</td>\n",
              "      <td>1.47e-02</td>\n",
              "      <td>2.69</td>\n",
              "      <td>0</td>\n",
              "    </tr>\n",
              "    <tr>\n",
              "      <th>2</th>\n",
              "      <td>1.0</td>\n",
              "      <td>-1.36</td>\n",
              "      <td>-1.34</td>\n",
              "      <td>1.77</td>\n",
              "      <td>0.38</td>\n",
              "      <td>-0.50</td>\n",
              "      <td>1.80</td>\n",
              "      <td>7.91e-01</td>\n",
              "      <td>0.25</td>\n",
              "      <td>-1.51</td>\n",
              "      <td>0.21</td>\n",
              "      <td>0.62</td>\n",
              "      <td>0.07</td>\n",
              "      <td>0.72</td>\n",
              "      <td>-0.17</td>\n",
              "      <td>2.35</td>\n",
              "      <td>-2.89</td>\n",
              "      <td>1.11e+00</td>\n",
              "      <td>-0.12</td>\n",
              "      <td>-2.26</td>\n",
              "      <td>0.52</td>\n",
              "      <td>2.48e-01</td>\n",
              "      <td>7.72e-01</td>\n",
              "      <td>0.91</td>\n",
              "      <td>-0.69</td>\n",
              "      <td>-0.33</td>\n",
              "      <td>-0.14</td>\n",
              "      <td>-5.54e-02</td>\n",
              "      <td>-5.98e-02</td>\n",
              "      <td>378.66</td>\n",
              "      <td>0</td>\n",
              "    </tr>\n",
              "    <tr>\n",
              "      <th>3</th>\n",
              "      <td>1.0</td>\n",
              "      <td>-0.97</td>\n",
              "      <td>-0.19</td>\n",
              "      <td>1.79</td>\n",
              "      <td>-0.86</td>\n",
              "      <td>-0.01</td>\n",
              "      <td>1.25</td>\n",
              "      <td>2.38e-01</td>\n",
              "      <td>0.38</td>\n",
              "      <td>-1.39</td>\n",
              "      <td>-0.05</td>\n",
              "      <td>-0.23</td>\n",
              "      <td>0.18</td>\n",
              "      <td>0.51</td>\n",
              "      <td>-0.29</td>\n",
              "      <td>-0.63</td>\n",
              "      <td>-1.06</td>\n",
              "      <td>-6.84e-01</td>\n",
              "      <td>1.97</td>\n",
              "      <td>-1.23</td>\n",
              "      <td>-0.21</td>\n",
              "      <td>-1.08e-01</td>\n",
              "      <td>5.27e-03</td>\n",
              "      <td>-0.19</td>\n",
              "      <td>-1.18</td>\n",
              "      <td>0.65</td>\n",
              "      <td>-0.22</td>\n",
              "      <td>6.27e-02</td>\n",
              "      <td>6.15e-02</td>\n",
              "      <td>123.50</td>\n",
              "      <td>0</td>\n",
              "    </tr>\n",
              "    <tr>\n",
              "      <th>4</th>\n",
              "      <td>2.0</td>\n",
              "      <td>-1.16</td>\n",
              "      <td>0.88</td>\n",
              "      <td>1.55</td>\n",
              "      <td>0.40</td>\n",
              "      <td>-0.41</td>\n",
              "      <td>0.10</td>\n",
              "      <td>5.93e-01</td>\n",
              "      <td>-0.27</td>\n",
              "      <td>0.82</td>\n",
              "      <td>0.75</td>\n",
              "      <td>-0.82</td>\n",
              "      <td>0.54</td>\n",
              "      <td>1.35</td>\n",
              "      <td>-1.12</td>\n",
              "      <td>0.18</td>\n",
              "      <td>-0.45</td>\n",
              "      <td>-2.37e-01</td>\n",
              "      <td>-0.04</td>\n",
              "      <td>0.80</td>\n",
              "      <td>0.41</td>\n",
              "      <td>-9.43e-03</td>\n",
              "      <td>7.98e-01</td>\n",
              "      <td>-0.14</td>\n",
              "      <td>0.14</td>\n",
              "      <td>-0.21</td>\n",
              "      <td>0.50</td>\n",
              "      <td>2.19e-01</td>\n",
              "      <td>2.15e-01</td>\n",
              "      <td>69.99</td>\n",
              "      <td>0</td>\n",
              "    </tr>\n",
              "    <tr>\n",
              "      <th>5</th>\n",
              "      <td>2.0</td>\n",
              "      <td>-0.43</td>\n",
              "      <td>0.96</td>\n",
              "      <td>1.14</td>\n",
              "      <td>-0.17</td>\n",
              "      <td>0.42</td>\n",
              "      <td>-0.03</td>\n",
              "      <td>4.76e-01</td>\n",
              "      <td>0.26</td>\n",
              "      <td>-0.57</td>\n",
              "      <td>-0.37</td>\n",
              "      <td>1.34</td>\n",
              "      <td>0.36</td>\n",
              "      <td>-0.36</td>\n",
              "      <td>-0.14</td>\n",
              "      <td>0.52</td>\n",
              "      <td>0.40</td>\n",
              "      <td>-5.81e-02</td>\n",
              "      <td>0.07</td>\n",
              "      <td>-0.03</td>\n",
              "      <td>0.08</td>\n",
              "      <td>-2.08e-01</td>\n",
              "      <td>-5.60e-01</td>\n",
              "      <td>-0.03</td>\n",
              "      <td>-0.37</td>\n",
              "      <td>-0.23</td>\n",
              "      <td>0.11</td>\n",
              "      <td>2.54e-01</td>\n",
              "      <td>8.11e-02</td>\n",
              "      <td>3.67</td>\n",
              "      <td>0</td>\n",
              "    </tr>\n",
              "    <tr>\n",
              "      <th>6</th>\n",
              "      <td>4.0</td>\n",
              "      <td>1.23</td>\n",
              "      <td>0.14</td>\n",
              "      <td>0.05</td>\n",
              "      <td>1.20</td>\n",
              "      <td>0.19</td>\n",
              "      <td>0.27</td>\n",
              "      <td>-5.16e-03</td>\n",
              "      <td>0.08</td>\n",
              "      <td>0.46</td>\n",
              "      <td>-0.10</td>\n",
              "      <td>-1.42</td>\n",
              "      <td>-0.15</td>\n",
              "      <td>-0.75</td>\n",
              "      <td>0.17</td>\n",
              "      <td>0.05</td>\n",
              "      <td>-0.44</td>\n",
              "      <td>2.82e-03</td>\n",
              "      <td>-0.61</td>\n",
              "      <td>-0.05</td>\n",
              "      <td>-0.22</td>\n",
              "      <td>-1.68e-01</td>\n",
              "      <td>-2.71e-01</td>\n",
              "      <td>-0.15</td>\n",
              "      <td>-0.78</td>\n",
              "      <td>0.75</td>\n",
              "      <td>-0.26</td>\n",
              "      <td>3.45e-02</td>\n",
              "      <td>5.17e-03</td>\n",
              "      <td>4.99</td>\n",
              "      <td>0</td>\n",
              "    </tr>\n",
              "    <tr>\n",
              "      <th>7</th>\n",
              "      <td>7.0</td>\n",
              "      <td>-0.64</td>\n",
              "      <td>1.42</td>\n",
              "      <td>1.07</td>\n",
              "      <td>-0.49</td>\n",
              "      <td>0.95</td>\n",
              "      <td>0.43</td>\n",
              "      <td>1.12e+00</td>\n",
              "      <td>-3.81</td>\n",
              "      <td>0.62</td>\n",
              "      <td>1.25</td>\n",
              "      <td>-0.62</td>\n",
              "      <td>0.29</td>\n",
              "      <td>1.76</td>\n",
              "      <td>-1.32</td>\n",
              "      <td>0.69</td>\n",
              "      <td>-0.08</td>\n",
              "      <td>-1.22e+00</td>\n",
              "      <td>-0.36</td>\n",
              "      <td>0.32</td>\n",
              "      <td>-0.16</td>\n",
              "      <td>1.94e+00</td>\n",
              "      <td>-1.02e+00</td>\n",
              "      <td>0.06</td>\n",
              "      <td>-0.65</td>\n",
              "      <td>-0.42</td>\n",
              "      <td>-0.05</td>\n",
              "      <td>-1.21e+00</td>\n",
              "      <td>-1.09e+00</td>\n",
              "      <td>40.80</td>\n",
              "      <td>0</td>\n",
              "    </tr>\n",
              "    <tr>\n",
              "      <th>8</th>\n",
              "      <td>7.0</td>\n",
              "      <td>-0.89</td>\n",
              "      <td>0.29</td>\n",
              "      <td>-0.11</td>\n",
              "      <td>-0.27</td>\n",
              "      <td>2.67</td>\n",
              "      <td>3.72</td>\n",
              "      <td>3.70e-01</td>\n",
              "      <td>0.85</td>\n",
              "      <td>-0.39</td>\n",
              "      <td>-0.41</td>\n",
              "      <td>-0.71</td>\n",
              "      <td>-0.11</td>\n",
              "      <td>-0.29</td>\n",
              "      <td>0.07</td>\n",
              "      <td>-0.33</td>\n",
              "      <td>-0.21</td>\n",
              "      <td>-5.00e-01</td>\n",
              "      <td>0.12</td>\n",
              "      <td>0.57</td>\n",
              "      <td>0.05</td>\n",
              "      <td>-7.34e-02</td>\n",
              "      <td>-2.68e-01</td>\n",
              "      <td>-0.20</td>\n",
              "      <td>1.01</td>\n",
              "      <td>0.37</td>\n",
              "      <td>-0.38</td>\n",
              "      <td>1.17e-02</td>\n",
              "      <td>1.42e-01</td>\n",
              "      <td>93.20</td>\n",
              "      <td>0</td>\n",
              "    </tr>\n",
              "    <tr>\n",
              "      <th>9</th>\n",
              "      <td>9.0</td>\n",
              "      <td>-0.34</td>\n",
              "      <td>1.12</td>\n",
              "      <td>1.04</td>\n",
              "      <td>-0.22</td>\n",
              "      <td>0.50</td>\n",
              "      <td>-0.25</td>\n",
              "      <td>6.52e-01</td>\n",
              "      <td>0.07</td>\n",
              "      <td>-0.74</td>\n",
              "      <td>-0.37</td>\n",
              "      <td>1.02</td>\n",
              "      <td>0.84</td>\n",
              "      <td>1.01</td>\n",
              "      <td>-0.44</td>\n",
              "      <td>0.15</td>\n",
              "      <td>0.74</td>\n",
              "      <td>-5.41e-01</td>\n",
              "      <td>0.48</td>\n",
              "      <td>0.45</td>\n",
              "      <td>0.20</td>\n",
              "      <td>-2.47e-01</td>\n",
              "      <td>-6.34e-01</td>\n",
              "      <td>-0.12</td>\n",
              "      <td>-0.39</td>\n",
              "      <td>-0.07</td>\n",
              "      <td>0.09</td>\n",
              "      <td>2.46e-01</td>\n",
              "      <td>8.31e-02</td>\n",
              "      <td>3.68</td>\n",
              "      <td>0</td>\n",
              "    </tr>\n",
              "  </tbody>\n",
              "</table>\n",
              "</div>"
            ],
            "text/plain": [
              "   Time    V1    V2    V3    V4    V5    V6        V7    V8    V9   V10   V11  \\\n",
              "0   0.0 -1.36 -0.07  2.54  1.38 -0.34  0.46  2.40e-01  0.10  0.36  0.09 -0.55   \n",
              "1   0.0  1.19  0.27  0.17  0.45  0.06 -0.08 -7.88e-02  0.09 -0.26 -0.17  1.61   \n",
              "2   1.0 -1.36 -1.34  1.77  0.38 -0.50  1.80  7.91e-01  0.25 -1.51  0.21  0.62   \n",
              "3   1.0 -0.97 -0.19  1.79 -0.86 -0.01  1.25  2.38e-01  0.38 -1.39 -0.05 -0.23   \n",
              "4   2.0 -1.16  0.88  1.55  0.40 -0.41  0.10  5.93e-01 -0.27  0.82  0.75 -0.82   \n",
              "5   2.0 -0.43  0.96  1.14 -0.17  0.42 -0.03  4.76e-01  0.26 -0.57 -0.37  1.34   \n",
              "6   4.0  1.23  0.14  0.05  1.20  0.19  0.27 -5.16e-03  0.08  0.46 -0.10 -1.42   \n",
              "7   7.0 -0.64  1.42  1.07 -0.49  0.95  0.43  1.12e+00 -3.81  0.62  1.25 -0.62   \n",
              "8   7.0 -0.89  0.29 -0.11 -0.27  2.67  3.72  3.70e-01  0.85 -0.39 -0.41 -0.71   \n",
              "9   9.0 -0.34  1.12  1.04 -0.22  0.50 -0.25  6.52e-01  0.07 -0.74 -0.37  1.02   \n",
              "\n",
              "    V12   V13   V14   V15   V16       V17   V18   V19   V20       V21  \\\n",
              "0 -0.62 -0.99 -0.31  1.47 -0.47  2.08e-01  0.03  0.40  0.25 -1.83e-02   \n",
              "1  1.07  0.49 -0.14  0.64  0.46 -1.15e-01 -0.18 -0.15 -0.07 -2.26e-01   \n",
              "2  0.07  0.72 -0.17  2.35 -2.89  1.11e+00 -0.12 -2.26  0.52  2.48e-01   \n",
              "3  0.18  0.51 -0.29 -0.63 -1.06 -6.84e-01  1.97 -1.23 -0.21 -1.08e-01   \n",
              "4  0.54  1.35 -1.12  0.18 -0.45 -2.37e-01 -0.04  0.80  0.41 -9.43e-03   \n",
              "5  0.36 -0.36 -0.14  0.52  0.40 -5.81e-02  0.07 -0.03  0.08 -2.08e-01   \n",
              "6 -0.15 -0.75  0.17  0.05 -0.44  2.82e-03 -0.61 -0.05 -0.22 -1.68e-01   \n",
              "7  0.29  1.76 -1.32  0.69 -0.08 -1.22e+00 -0.36  0.32 -0.16  1.94e+00   \n",
              "8 -0.11 -0.29  0.07 -0.33 -0.21 -5.00e-01  0.12  0.57  0.05 -7.34e-02   \n",
              "9  0.84  1.01 -0.44  0.15  0.74 -5.41e-01  0.48  0.45  0.20 -2.47e-01   \n",
              "\n",
              "        V22   V23   V24   V25   V26       V27       V28  Amount  Class  \n",
              "0  2.78e-01 -0.11  0.07  0.13 -0.19  1.34e-01 -2.11e-02  149.62      0  \n",
              "1 -6.39e-01  0.10 -0.34  0.17  0.13 -8.98e-03  1.47e-02    2.69      0  \n",
              "2  7.72e-01  0.91 -0.69 -0.33 -0.14 -5.54e-02 -5.98e-02  378.66      0  \n",
              "3  5.27e-03 -0.19 -1.18  0.65 -0.22  6.27e-02  6.15e-02  123.50      0  \n",
              "4  7.98e-01 -0.14  0.14 -0.21  0.50  2.19e-01  2.15e-01   69.99      0  \n",
              "5 -5.60e-01 -0.03 -0.37 -0.23  0.11  2.54e-01  8.11e-02    3.67      0  \n",
              "6 -2.71e-01 -0.15 -0.78  0.75 -0.26  3.45e-02  5.17e-03    4.99      0  \n",
              "7 -1.02e+00  0.06 -0.65 -0.42 -0.05 -1.21e+00 -1.09e+00   40.80      0  \n",
              "8 -2.68e-01 -0.20  1.01  0.37 -0.38  1.17e-02  1.42e-01   93.20      0  \n",
              "9 -6.34e-01 -0.12 -0.39 -0.07  0.09  2.46e-01  8.31e-02    3.68      0  "
            ]
          },
          "metadata": {
            "tags": []
          },
          "execution_count": 76
        }
      ]
    },
    {
      "cell_type": "code",
      "metadata": {
        "id": "ib4ktHtKY7GI",
        "colab_type": "code",
        "colab": {}
      },
      "source": [
        "X1 = df.drop('Class', axis=1)"
      ],
      "execution_count": 0,
      "outputs": []
    },
    {
      "cell_type": "code",
      "metadata": {
        "id": "doB1k-RfY7z8",
        "colab_type": "code",
        "colab": {}
      },
      "source": [
        "y1 = df['Class']"
      ],
      "execution_count": 0,
      "outputs": []
    },
    {
      "cell_type": "code",
      "metadata": {
        "id": "J4qZSbK0ZUyN",
        "colab_type": "code",
        "colab": {}
      },
      "source": [
        "X_train1, X_test1, y_train1, y_test1 = train_test_split(X1, y1, test_size=0.3, random_state=100, stratify=y1)"
      ],
      "execution_count": 0,
      "outputs": []
    },
    {
      "cell_type": "code",
      "metadata": {
        "id": "iQMrippRZWNq",
        "colab_type": "code",
        "colab": {
          "base_uri": "https://localhost:8080/",
          "height": 816
        },
        "outputId": "07dbfe4b-af58-4cd6-9593-10d85c2b9d03"
      },
      "source": [
        "print(\"Размеры получившихся тренировочных данных: \", X_train1.shape, \"Размеры тренировочных ответов: \", y_train1.shape)\n",
        "print(\"Размеры получившихся тестовых данных: \", X_test1.shape, \"Размеры тестовых ответов: \", y_test1.shape)\n",
        "print('~~~~~~~~~~~~~~~~~~~~~~~~~~~~~~~~~')\n",
        "print(\"Содержание получившихся тренировочных данных: \\n\", X_train1.head())\n",
        "print('~~~~~~~~~~~~~~~~~~~~~~~~~~~~~~~~~')\n",
        "print(\"Содержание получившихся тестовых данных: \\n\", X_test1.head())\n",
        "print('~~~~~~~~~~~~~~~~~~~~~~~~~~~~~~~~~')"
      ],
      "execution_count": 85,
      "outputs": [
        {
          "output_type": "stream",
          "text": [
            "Размеры получившихся тренировочных данных:  (199364, 30) Размеры тренировочных ответов:  (199364,)\n",
            "Размеры получившихся тестовых данных:  (85443, 30) Размеры тестовых ответов:  (85443,)\n",
            "~~~~~~~~~~~~~~~~~~~~~~~~~~~~~~~~~\n",
            "Содержание получившихся тренировочных данных: \n",
            "             Time    V1    V2    V3    V4    V5    V6    V7    V8        V9  \\\n",
            "222925  143180.0  2.05 -0.15 -1.09  0.42 -0.23 -1.16  0.08 -0.24  7.33e-01   \n",
            "163811  116231.0  0.15  1.11 -0.39 -0.56  1.01 -0.80  1.04 -0.17 -2.01e-01   \n",
            "196038  131332.0  2.15  0.22 -2.22 -0.07  0.82 -1.36  0.84 -0.59  9.74e-03   \n",
            "25173    33527.0 -0.35  0.10  1.72 -0.88 -0.37 -0.06 -0.14  0.16 -1.84e+00   \n",
            "253792  156421.0 -0.44  1.87 -1.11  1.06  1.24 -0.63  1.10  0.22 -9.17e-01   \n",
            "\n",
            "         V10   V11   V12   V13   V14   V15   V16   V17   V18   V19   V20  \\\n",
            "222925  0.10 -0.91 -0.22 -1.22  0.53  0.23 -0.10 -0.16 -0.80  0.08 -0.31   \n",
            "163811 -0.86 -0.54  0.42  1.03 -1.22 -0.35  0.29  0.30 -0.33 -0.23  0.08   \n",
            "196038 -0.02 -0.48  0.85  1.14  0.56  0.29 -0.66 -0.36 -0.65  0.13 -0.13   \n",
            "25173   0.52  1.63 -0.26 -0.10  0.13  0.70  0.59  0.67 -1.19  1.69  0.30   \n",
            "253792 -0.84 -0.89 -0.22 -0.08 -0.76 -0.17 -0.55  1.44  0.39  0.59  0.02   \n",
            "\n",
            "         V21   V22   V23   V24   V25   V26   V27   V28  Amount  \n",
            "222925 -0.30 -0.78  0.36 -0.05 -0.36  0.21 -0.08 -0.06    1.29  \n",
            "163811 -0.33 -0.76  0.08  0.59 -0.38  0.11  0.23  0.09    2.69  \n",
            "196038  0.15  0.61 -0.03  0.82  0.51  0.20 -0.08 -0.07    4.55  \n",
            "25173   0.14  0.22 -0.01  0.02 -0.33 -0.29  0.12  0.10   19.95  \n",
            "253792  0.06  0.37 -0.25  0.49  0.09 -0.40  0.33  0.22    6.30  \n",
            "~~~~~~~~~~~~~~~~~~~~~~~~~~~~~~~~~\n",
            "Содержание получившихся тестовых данных: \n",
            "             Time    V1    V2    V3    V4    V5    V6    V7    V8    V9  \\\n",
            "262922  160713.0 -0.55  1.38  0.05  4.30  1.76  0.08  1.79 -0.30 -2.94   \n",
            "123418   76919.0  0.44  1.82 -2.30  1.54  0.79 -1.41  0.48  0.34 -0.67   \n",
            "206135  136082.0  2.06  0.04 -1.30  0.37  0.03 -1.35  0.33 -0.46  0.45   \n",
            "273483  165598.0 -0.50  0.79  1.70 -0.64  0.49  0.43  0.51  0.05  0.55   \n",
            "245758  152894.0  1.61 -0.94 -1.20  0.65 -0.39 -0.47  0.07 -0.15  0.85   \n",
            "\n",
            "             V10   V11   V12   V13   V14   V15   V16   V17   V18       V19  \\\n",
            "262922  1.39e+00 -1.87 -1.75 -0.85  1.06  0.37 -0.78  0.32  0.21  1.70e+00   \n",
            "123418 -1.23e+00  1.88 -0.20 -0.69 -2.93  0.43  1.28  2.65  2.22 -3.61e-04   \n",
            "206135 -1.64e-02 -0.53  0.80  1.01  0.30  0.64 -0.26 -0.55 -0.18 -2.44e-01   \n",
            "273483 -5.46e-01 -1.55 -0.96 -0.91 -0.07  1.56  0.04 -0.67  0.65  1.01e+00   \n",
            "245758  5.01e-03 -1.03 -0.11 -0.65  0.31  0.41  0.18 -0.41 -0.21 -1.72e-01   \n",
            "\n",
            "             V20   V21   V22   V23   V24   V25   V26   V27       V28  Amount  \n",
            "262922  4.52e-01  0.32  0.70 -0.53 -0.68  1.23  0.98 -0.04  5.30e-02  101.42  \n",
            "123418 -9.73e-03 -0.08 -0.17  0.11 -0.37 -0.44 -0.39  0.12 -6.13e-02    9.99  \n",
            "206135 -1.68e-01  0.26  0.95 -0.02  0.11  0.30 -0.12 -0.02 -5.50e-02   10.49  \n",
            "273483  2.12e-01 -0.28 -0.55 -0.37 -0.04  0.43 -0.66  0.18 -8.18e-02    1.00  \n",
            "245758  2.14e-01  0.08 -0.18  0.07  0.74 -0.28  0.17 -0.09 -9.69e-03  227.75  \n",
            "~~~~~~~~~~~~~~~~~~~~~~~~~~~~~~~~~\n"
          ],
          "name": "stdout"
        }
      ]
    },
    {
      "cell_type": "code",
      "metadata": {
        "id": "kH9R8zBeZ1eU",
        "colab_type": "code",
        "colab": {}
      },
      "source": [
        "parameters = [{\n",
        "    'n_estimators': [10, 15], \n",
        "    'max_features': np.arange(3, 5), \n",
        "    'max_depth': np.arange(4, 7)\n",
        "}]"
      ],
      "execution_count": 0,
      "outputs": []
    },
    {
      "cell_type": "code",
      "metadata": {
        "id": "gpctCzWMZ4Bv",
        "colab_type": "code",
        "colab": {}
      },
      "source": [
        "clf1 = GridSearchCV(\n",
        "    estimator=RandomForestClassifier(random_state=100),\n",
        "    param_grid=parameters,\n",
        "    scoring='roc_auc',\n",
        "    cv=3,\n",
        ")"
      ],
      "execution_count": 0,
      "outputs": []
    },
    {
      "cell_type": "code",
      "metadata": {
        "id": "SlS05UJJaHq6",
        "colab_type": "code",
        "colab": {
          "base_uri": "https://localhost:8080/",
          "height": 374
        },
        "outputId": "d735cf17-aeab-4823-add9-b22bdab01efa"
      },
      "source": [
        "clf1.fit(X_train1, y_train1)"
      ],
      "execution_count": 90,
      "outputs": [
        {
          "output_type": "execute_result",
          "data": {
            "text/plain": [
              "GridSearchCV(cv=3, error_score=nan,\n",
              "             estimator=RandomForestClassifier(bootstrap=True, ccp_alpha=0.0,\n",
              "                                              class_weight=None,\n",
              "                                              criterion='gini', max_depth=None,\n",
              "                                              max_features='auto',\n",
              "                                              max_leaf_nodes=None,\n",
              "                                              max_samples=None,\n",
              "                                              min_impurity_decrease=0.0,\n",
              "                                              min_impurity_split=None,\n",
              "                                              min_samples_leaf=1,\n",
              "                                              min_samples_split=2,\n",
              "                                              min_weight_fraction_leaf=0.0,\n",
              "                                              n_estimators=100, n_jobs=None,\n",
              "                                              oob_score=False, random_state=100,\n",
              "                                              verbose=0, warm_start=False),\n",
              "             iid='deprecated', n_jobs=None,\n",
              "             param_grid=[{'max_depth': array([4, 5, 6]),\n",
              "                          'max_features': array([3, 4]),\n",
              "                          'n_estimators': [10, 15]}],\n",
              "             pre_dispatch='2*n_jobs', refit=True, return_train_score=False,\n",
              "             scoring='roc_auc', verbose=0)"
            ]
          },
          "metadata": {
            "tags": []
          },
          "execution_count": 90
        }
      ]
    },
    {
      "cell_type": "code",
      "metadata": {
        "id": "5sKJ6GoUaOgC",
        "colab_type": "code",
        "colab": {
          "base_uri": "https://localhost:8080/",
          "height": 51
        },
        "outputId": "630e2334-f855-45e6-afa9-cf080f95a574"
      },
      "source": [
        "print(\"Лучшие параметры\\n\", clf1.best_params_)"
      ],
      "execution_count": 91,
      "outputs": [
        {
          "output_type": "stream",
          "text": [
            "Лучшие параметры\n",
            " {'max_depth': 6, 'max_features': 3, 'n_estimators': 15}\n"
          ],
          "name": "stdout"
        }
      ]
    },
    {
      "cell_type": "code",
      "metadata": {
        "id": "BvHflIL1aY8i",
        "colab_type": "code",
        "colab": {
          "base_uri": "https://localhost:8080/",
          "height": 153
        },
        "outputId": "e73f0b21-1ef2-4c78-c1d6-52e88f47937b"
      },
      "source": [
        "clf_luch = RandomForestClassifier(max_depth=6, max_features=3, n_estimators=15)\n",
        "\n",
        "clf_luch.fit(X_train1, y_train1)"
      ],
      "execution_count": 92,
      "outputs": [
        {
          "output_type": "execute_result",
          "data": {
            "text/plain": [
              "RandomForestClassifier(bootstrap=True, ccp_alpha=0.0, class_weight=None,\n",
              "                       criterion='gini', max_depth=6, max_features=3,\n",
              "                       max_leaf_nodes=None, max_samples=None,\n",
              "                       min_impurity_decrease=0.0, min_impurity_split=None,\n",
              "                       min_samples_leaf=1, min_samples_split=2,\n",
              "                       min_weight_fraction_leaf=0.0, n_estimators=15,\n",
              "                       n_jobs=None, oob_score=False, random_state=None,\n",
              "                       verbose=0, warm_start=False)"
            ]
          },
          "metadata": {
            "tags": []
          },
          "execution_count": 92
        }
      ]
    },
    {
      "cell_type": "code",
      "metadata": {
        "id": "mah844wyansU",
        "colab_type": "code",
        "colab": {}
      },
      "source": [
        "y_pred_luch = clf_luch.predict_proba(X_test1)"
      ],
      "execution_count": 0,
      "outputs": []
    },
    {
      "cell_type": "code",
      "metadata": {
        "id": "4GXhuXJNasSE",
        "colab_type": "code",
        "colab": {}
      },
      "source": [
        "y_pred_luch = y_pred_luch[:, 1]"
      ],
      "execution_count": 0,
      "outputs": []
    },
    {
      "cell_type": "code",
      "metadata": {
        "id": "Cs3wybXYb3OC",
        "colab_type": "code",
        "colab": {
          "base_uri": "https://localhost:8080/",
          "height": 34
        },
        "outputId": "07fe4a8a-fede-474b-b4f7-6a936ed6874f"
      },
      "source": [
        "roc_auc_score(y_test1,y_pred_luch)"
      ],
      "execution_count": 97,
      "outputs": [
        {
          "output_type": "execute_result",
          "data": {
            "text/plain": [
              "0.9338325018259364"
            ]
          },
          "metadata": {
            "tags": []
          },
          "execution_count": 97
        }
      ]
    },
    {
      "cell_type": "markdown",
      "metadata": {
        "id": "_aBUYn36_2q_",
        "colab_type": "text"
      },
      "source": [
        "## **Дополнительные задания:\n",
        "Загрузите датасет Wine из встроенных датасетов sklearn.datasets с помощью функции load_wine в переменную data."
      ]
    },
    {
      "cell_type": "code",
      "metadata": {
        "id": "iQCH7Wl_POUH",
        "colab_type": "code",
        "colab": {}
      },
      "source": [
        "from sklearn.datasets import load_wine\n",
        "data = load_wine()"
      ],
      "execution_count": 0,
      "outputs": []
    },
    {
      "cell_type": "markdown",
      "metadata": {
        "id": "dsEpq9MecUO9",
        "colab_type": "text"
      },
      "source": [
        "Полученный датасет не является датафреймом. Это структура данных, имеющая ключи аналогично словарю. Просмотрите тип данных этой структуры данных и создайте список data_keys, содержащий ее ключи."
      ]
    },
    {
      "cell_type": "code",
      "metadata": {
        "id": "2QbBLQmsPRlP",
        "colab_type": "code",
        "colab": {
          "base_uri": "https://localhost:8080/",
          "height": 34
        },
        "outputId": "ed817917-5da5-4b6c-f68d-0296fc486f7c"
      },
      "source": [
        "data_keys = data.keys()\n",
        "print(data_keys)"
      ],
      "execution_count": 101,
      "outputs": [
        {
          "output_type": "stream",
          "text": [
            "dict_keys(['data', 'target', 'target_names', 'DESCR', 'feature_names'])\n"
          ],
          "name": "stdout"
        }
      ]
    },
    {
      "cell_type": "markdown",
      "metadata": {
        "id": "cw21jiFCchV9",
        "colab_type": "text"
      },
      "source": [
        "Просмотрите данные, описание и названия признаков в датасете. Описание нужно вывести в виде привычного, аккуратно оформленного текста, без обозначений переноса строки, но с самими переносами и т.д."
      ]
    },
    {
      "cell_type": "code",
      "metadata": {
        "id": "4zB30YayPxCf",
        "colab_type": "code",
        "outputId": "9d32b525-e5e4-4fd1-916f-b4bfbc145108",
        "colab": {
          "base_uri": "https://localhost:8080/",
          "height": 238
        }
      },
      "source": [
        "data.data"
      ],
      "execution_count": 102,
      "outputs": [
        {
          "output_type": "execute_result",
          "data": {
            "text/plain": [
              "array([[1.423e+01, 1.710e+00, 2.430e+00, ..., 1.040e+00, 3.920e+00,\n",
              "        1.065e+03],\n",
              "       [1.320e+01, 1.780e+00, 2.140e+00, ..., 1.050e+00, 3.400e+00,\n",
              "        1.050e+03],\n",
              "       [1.316e+01, 2.360e+00, 2.670e+00, ..., 1.030e+00, 3.170e+00,\n",
              "        1.185e+03],\n",
              "       ...,\n",
              "       [1.327e+01, 4.280e+00, 2.260e+00, ..., 5.900e-01, 1.560e+00,\n",
              "        8.350e+02],\n",
              "       [1.317e+01, 2.590e+00, 2.370e+00, ..., 6.000e-01, 1.620e+00,\n",
              "        8.400e+02],\n",
              "       [1.413e+01, 4.100e+00, 2.740e+00, ..., 6.100e-01, 1.600e+00,\n",
              "        5.600e+02]])"
            ]
          },
          "metadata": {
            "tags": []
          },
          "execution_count": 102
        }
      ]
    },
    {
      "cell_type": "code",
      "metadata": {
        "id": "CuwQ1yU4P0w-",
        "colab_type": "code",
        "outputId": "60583dc8-250d-46b0-d661-94eb74f13865",
        "colab": {
          "base_uri": "https://localhost:8080/",
          "height": 1000
        }
      },
      "source": [
        "print(data.DESCR)"
      ],
      "execution_count": 103,
      "outputs": [
        {
          "output_type": "stream",
          "text": [
            ".. _wine_dataset:\n",
            "\n",
            "Wine recognition dataset\n",
            "------------------------\n",
            "\n",
            "**Data Set Characteristics:**\n",
            "\n",
            "    :Number of Instances: 178 (50 in each of three classes)\n",
            "    :Number of Attributes: 13 numeric, predictive attributes and the class\n",
            "    :Attribute Information:\n",
            " \t\t- Alcohol\n",
            " \t\t- Malic acid\n",
            " \t\t- Ash\n",
            "\t\t- Alcalinity of ash  \n",
            " \t\t- Magnesium\n",
            "\t\t- Total phenols\n",
            " \t\t- Flavanoids\n",
            " \t\t- Nonflavanoid phenols\n",
            " \t\t- Proanthocyanins\n",
            "\t\t- Color intensity\n",
            " \t\t- Hue\n",
            " \t\t- OD280/OD315 of diluted wines\n",
            " \t\t- Proline\n",
            "\n",
            "    - class:\n",
            "            - class_0\n",
            "            - class_1\n",
            "            - class_2\n",
            "\t\t\n",
            "    :Summary Statistics:\n",
            "    \n",
            "    ============================= ==== ===== ======= =====\n",
            "                                   Min   Max   Mean     SD\n",
            "    ============================= ==== ===== ======= =====\n",
            "    Alcohol:                      11.0  14.8    13.0   0.8\n",
            "    Malic Acid:                   0.74  5.80    2.34  1.12\n",
            "    Ash:                          1.36  3.23    2.36  0.27\n",
            "    Alcalinity of Ash:            10.6  30.0    19.5   3.3\n",
            "    Magnesium:                    70.0 162.0    99.7  14.3\n",
            "    Total Phenols:                0.98  3.88    2.29  0.63\n",
            "    Flavanoids:                   0.34  5.08    2.03  1.00\n",
            "    Nonflavanoid Phenols:         0.13  0.66    0.36  0.12\n",
            "    Proanthocyanins:              0.41  3.58    1.59  0.57\n",
            "    Colour Intensity:              1.3  13.0     5.1   2.3\n",
            "    Hue:                          0.48  1.71    0.96  0.23\n",
            "    OD280/OD315 of diluted wines: 1.27  4.00    2.61  0.71\n",
            "    Proline:                       278  1680     746   315\n",
            "    ============================= ==== ===== ======= =====\n",
            "\n",
            "    :Missing Attribute Values: None\n",
            "    :Class Distribution: class_0 (59), class_1 (71), class_2 (48)\n",
            "    :Creator: R.A. Fisher\n",
            "    :Donor: Michael Marshall (MARSHALL%PLU@io.arc.nasa.gov)\n",
            "    :Date: July, 1988\n",
            "\n",
            "This is a copy of UCI ML Wine recognition datasets.\n",
            "https://archive.ics.uci.edu/ml/machine-learning-databases/wine/wine.data\n",
            "\n",
            "The data is the results of a chemical analysis of wines grown in the same\n",
            "region in Italy by three different cultivators. There are thirteen different\n",
            "measurements taken for different constituents found in the three types of\n",
            "wine.\n",
            "\n",
            "Original Owners: \n",
            "\n",
            "Forina, M. et al, PARVUS - \n",
            "An Extendible Package for Data Exploration, Classification and Correlation. \n",
            "Institute of Pharmaceutical and Food Analysis and Technologies,\n",
            "Via Brigata Salerno, 16147 Genoa, Italy.\n",
            "\n",
            "Citation:\n",
            "\n",
            "Lichman, M. (2013). UCI Machine Learning Repository\n",
            "[https://archive.ics.uci.edu/ml]. Irvine, CA: University of California,\n",
            "School of Information and Computer Science. \n",
            "\n",
            ".. topic:: References\n",
            "\n",
            "  (1) S. Aeberhard, D. Coomans and O. de Vel, \n",
            "  Comparison of Classifiers in High Dimensional Settings, \n",
            "  Tech. Rep. no. 92-02, (1992), Dept. of Computer Science and Dept. of  \n",
            "  Mathematics and Statistics, James Cook University of North Queensland. \n",
            "  (Also submitted to Technometrics). \n",
            "\n",
            "  The data was used with many others for comparing various \n",
            "  classifiers. The classes are separable, though only RDA \n",
            "  has achieved 100% correct classification. \n",
            "  (RDA : 100%, QDA 99.4%, LDA 98.9%, 1NN 96.1% (z-transformed data)) \n",
            "  (All results using the leave-one-out technique) \n",
            "\n",
            "  (2) S. Aeberhard, D. Coomans and O. de Vel, \n",
            "  \"THE CLASSIFICATION PERFORMANCE OF RDA\" \n",
            "  Tech. Rep. no. 92-01, (1992), Dept. of Computer Science and Dept. of \n",
            "  Mathematics and Statistics, James Cook University of North Queensland. \n",
            "  (Also submitted to Journal of Chemometrics).\n",
            "\n"
          ],
          "name": "stdout"
        }
      ]
    },
    {
      "cell_type": "code",
      "metadata": {
        "id": "EJsokULMP3zX",
        "colab_type": "code",
        "outputId": "f997eb5b-0245-4583-c82b-4cd4e7b854a9",
        "colab": {
          "base_uri": "https://localhost:8080/",
          "height": 238
        }
      },
      "source": [
        "data.feature_names"
      ],
      "execution_count": 104,
      "outputs": [
        {
          "output_type": "execute_result",
          "data": {
            "text/plain": [
              "['alcohol',\n",
              " 'malic_acid',\n",
              " 'ash',\n",
              " 'alcalinity_of_ash',\n",
              " 'magnesium',\n",
              " 'total_phenols',\n",
              " 'flavanoids',\n",
              " 'nonflavanoid_phenols',\n",
              " 'proanthocyanins',\n",
              " 'color_intensity',\n",
              " 'hue',\n",
              " 'od280/od315_of_diluted_wines',\n",
              " 'proline']"
            ]
          },
          "metadata": {
            "tags": []
          },
          "execution_count": 104
        }
      ]
    },
    {
      "cell_type": "markdown",
      "metadata": {
        "id": "4kOjLKhOcucV",
        "colab_type": "text"
      },
      "source": [
        "Сколько классов содержит целевая переменная датасета? Выведите названия классов."
      ]
    },
    {
      "cell_type": "code",
      "metadata": {
        "id": "GInBoebRP6jU",
        "colab_type": "code",
        "outputId": "2e05c3e2-3748-475b-e76d-ba70d1807549",
        "colab": {
          "base_uri": "https://localhost:8080/",
          "height": 51
        }
      },
      "source": [
        "print(set(data.target))\n",
        "print(len(set(data.target)))"
      ],
      "execution_count": 105,
      "outputs": [
        {
          "output_type": "stream",
          "text": [
            "{0, 1, 2}\n",
            "3\n"
          ],
          "name": "stdout"
        }
      ]
    },
    {
      "cell_type": "code",
      "metadata": {
        "id": "hIK8mEwfP-GN",
        "colab_type": "code",
        "outputId": "989036ff-ab0f-4f05-f19b-014ed5856a2d",
        "colab": {
          "base_uri": "https://localhost:8080/",
          "height": 34
        }
      },
      "source": [
        "data.target_names"
      ],
      "execution_count": 106,
      "outputs": [
        {
          "output_type": "execute_result",
          "data": {
            "text/plain": [
              "array(['class_0', 'class_1', 'class_2'], dtype='<U7')"
            ]
          },
          "metadata": {
            "tags": []
          },
          "execution_count": 106
        }
      ]
    },
    {
      "cell_type": "markdown",
      "metadata": {
        "id": "3vjE7POBQCm-",
        "colab_type": "text"
      },
      "source": [
        "На основе данных датасета (они содержатся в двумерном массиве Numpy) и названий признаков создайте датафрейм под названием X."
      ]
    },
    {
      "cell_type": "code",
      "metadata": {
        "id": "zsi5uHZnQDz1",
        "colab_type": "code",
        "outputId": "734d6682-e06a-4c5c-fc9b-c36be047ac74",
        "colab": {
          "base_uri": "https://localhost:8080/",
          "height": 204
        }
      },
      "source": [
        "X = pd.DataFrame(data.data, columns=data.feature_names)\n",
        "X.head()"
      ],
      "execution_count": 107,
      "outputs": [
        {
          "output_type": "execute_result",
          "data": {
            "text/html": [
              "<div>\n",
              "<style scoped>\n",
              "    .dataframe tbody tr th:only-of-type {\n",
              "        vertical-align: middle;\n",
              "    }\n",
              "\n",
              "    .dataframe tbody tr th {\n",
              "        vertical-align: top;\n",
              "    }\n",
              "\n",
              "    .dataframe thead th {\n",
              "        text-align: right;\n",
              "    }\n",
              "</style>\n",
              "<table border=\"1\" class=\"dataframe\">\n",
              "  <thead>\n",
              "    <tr style=\"text-align: right;\">\n",
              "      <th></th>\n",
              "      <th>alcohol</th>\n",
              "      <th>malic_acid</th>\n",
              "      <th>ash</th>\n",
              "      <th>alcalinity_of_ash</th>\n",
              "      <th>magnesium</th>\n",
              "      <th>total_phenols</th>\n",
              "      <th>flavanoids</th>\n",
              "      <th>nonflavanoid_phenols</th>\n",
              "      <th>proanthocyanins</th>\n",
              "      <th>color_intensity</th>\n",
              "      <th>hue</th>\n",
              "      <th>od280/od315_of_diluted_wines</th>\n",
              "      <th>proline</th>\n",
              "    </tr>\n",
              "  </thead>\n",
              "  <tbody>\n",
              "    <tr>\n",
              "      <th>0</th>\n",
              "      <td>14.23</td>\n",
              "      <td>1.71</td>\n",
              "      <td>2.43</td>\n",
              "      <td>15.6</td>\n",
              "      <td>127.0</td>\n",
              "      <td>2.80</td>\n",
              "      <td>3.06</td>\n",
              "      <td>0.28</td>\n",
              "      <td>2.29</td>\n",
              "      <td>5.64</td>\n",
              "      <td>1.04</td>\n",
              "      <td>3.92</td>\n",
              "      <td>1065.0</td>\n",
              "    </tr>\n",
              "    <tr>\n",
              "      <th>1</th>\n",
              "      <td>13.20</td>\n",
              "      <td>1.78</td>\n",
              "      <td>2.14</td>\n",
              "      <td>11.2</td>\n",
              "      <td>100.0</td>\n",
              "      <td>2.65</td>\n",
              "      <td>2.76</td>\n",
              "      <td>0.26</td>\n",
              "      <td>1.28</td>\n",
              "      <td>4.38</td>\n",
              "      <td>1.05</td>\n",
              "      <td>3.40</td>\n",
              "      <td>1050.0</td>\n",
              "    </tr>\n",
              "    <tr>\n",
              "      <th>2</th>\n",
              "      <td>13.16</td>\n",
              "      <td>2.36</td>\n",
              "      <td>2.67</td>\n",
              "      <td>18.6</td>\n",
              "      <td>101.0</td>\n",
              "      <td>2.80</td>\n",
              "      <td>3.24</td>\n",
              "      <td>0.30</td>\n",
              "      <td>2.81</td>\n",
              "      <td>5.68</td>\n",
              "      <td>1.03</td>\n",
              "      <td>3.17</td>\n",
              "      <td>1185.0</td>\n",
              "    </tr>\n",
              "    <tr>\n",
              "      <th>3</th>\n",
              "      <td>14.37</td>\n",
              "      <td>1.95</td>\n",
              "      <td>2.50</td>\n",
              "      <td>16.8</td>\n",
              "      <td>113.0</td>\n",
              "      <td>3.85</td>\n",
              "      <td>3.49</td>\n",
              "      <td>0.24</td>\n",
              "      <td>2.18</td>\n",
              "      <td>7.80</td>\n",
              "      <td>0.86</td>\n",
              "      <td>3.45</td>\n",
              "      <td>1480.0</td>\n",
              "    </tr>\n",
              "    <tr>\n",
              "      <th>4</th>\n",
              "      <td>13.24</td>\n",
              "      <td>2.59</td>\n",
              "      <td>2.87</td>\n",
              "      <td>21.0</td>\n",
              "      <td>118.0</td>\n",
              "      <td>2.80</td>\n",
              "      <td>2.69</td>\n",
              "      <td>0.39</td>\n",
              "      <td>1.82</td>\n",
              "      <td>4.32</td>\n",
              "      <td>1.04</td>\n",
              "      <td>2.93</td>\n",
              "      <td>735.0</td>\n",
              "    </tr>\n",
              "  </tbody>\n",
              "</table>\n",
              "</div>"
            ],
            "text/plain": [
              "   alcohol  malic_acid   ash  alcalinity_of_ash  magnesium  total_phenols  \\\n",
              "0    14.23        1.71  2.43               15.6      127.0           2.80   \n",
              "1    13.20        1.78  2.14               11.2      100.0           2.65   \n",
              "2    13.16        2.36  2.67               18.6      101.0           2.80   \n",
              "3    14.37        1.95  2.50               16.8      113.0           3.85   \n",
              "4    13.24        2.59  2.87               21.0      118.0           2.80   \n",
              "\n",
              "   flavanoids  nonflavanoid_phenols  proanthocyanins  color_intensity   hue  \\\n",
              "0        3.06                  0.28             2.29             5.64  1.04   \n",
              "1        2.76                  0.26             1.28             4.38  1.05   \n",
              "2        3.24                  0.30             2.81             5.68  1.03   \n",
              "3        3.49                  0.24             2.18             7.80  0.86   \n",
              "4        2.69                  0.39             1.82             4.32  1.04   \n",
              "\n",
              "   od280/od315_of_diluted_wines  proline  \n",
              "0                          3.92   1065.0  \n",
              "1                          3.40   1050.0  \n",
              "2                          3.17   1185.0  \n",
              "3                          3.45   1480.0  \n",
              "4                          2.93    735.0  "
            ]
          },
          "metadata": {
            "tags": []
          },
          "execution_count": 107
        }
      ]
    },
    {
      "cell_type": "markdown",
      "metadata": {
        "id": "_eJNHO5Mc_dS",
        "colab_type": "text"
      },
      "source": [
        "Выясните размер датафрейма X и установите, имеются ли в нем пропущенные значения."
      ]
    },
    {
      "cell_type": "code",
      "metadata": {
        "id": "OAQqv9GsdASf",
        "colab_type": "code",
        "colab": {
          "base_uri": "https://localhost:8080/",
          "height": 34
        },
        "outputId": "da12cb0d-7a76-49fa-fb06-151f2a76d1b5"
      },
      "source": [
        "X.shape"
      ],
      "execution_count": 109,
      "outputs": [
        {
          "output_type": "execute_result",
          "data": {
            "text/plain": [
              "(178, 13)"
            ]
          },
          "metadata": {
            "tags": []
          },
          "execution_count": 109
        }
      ]
    },
    {
      "cell_type": "code",
      "metadata": {
        "id": "Fez6drcAfPwB",
        "colab_type": "code",
        "colab": {
          "base_uri": "https://localhost:8080/",
          "height": 323
        },
        "outputId": "27148700-58ed-4d3e-cd9e-5a1ccd6be0fc"
      },
      "source": [
        "X.info()"
      ],
      "execution_count": 110,
      "outputs": [
        {
          "output_type": "stream",
          "text": [
            "<class 'pandas.core.frame.DataFrame'>\n",
            "RangeIndex: 178 entries, 0 to 177\n",
            "Data columns (total 13 columns):\n",
            "alcohol                         178 non-null float64\n",
            "malic_acid                      178 non-null float64\n",
            "ash                             178 non-null float64\n",
            "alcalinity_of_ash               178 non-null float64\n",
            "magnesium                       178 non-null float64\n",
            "total_phenols                   178 non-null float64\n",
            "flavanoids                      178 non-null float64\n",
            "nonflavanoid_phenols            178 non-null float64\n",
            "proanthocyanins                 178 non-null float64\n",
            "color_intensity                 178 non-null float64\n",
            "hue                             178 non-null float64\n",
            "od280/od315_of_diluted_wines    178 non-null float64\n",
            "proline                         178 non-null float64\n",
            "dtypes: float64(13)\n",
            "memory usage: 18.2 KB\n"
          ],
          "name": "stdout"
        }
      ]
    },
    {
      "cell_type": "markdown",
      "metadata": {
        "id": "H6VqPypQeOqj",
        "colab_type": "text"
      },
      "source": [
        "Добавьте в датафрейм поле с классами вин в виде чисел, имеющих тип данных numpy.int64. Название поля - 'target'."
      ]
    },
    {
      "cell_type": "code",
      "metadata": {
        "id": "h6JMonuEePil",
        "colab_type": "code",
        "colab": {}
      },
      "source": [
        "X['target'] = data.target"
      ],
      "execution_count": 0,
      "outputs": []
    },
    {
      "cell_type": "code",
      "metadata": {
        "id": "5ySxVZjDeSn8",
        "colab_type": "code",
        "colab": {
          "base_uri": "https://localhost:8080/",
          "height": 204
        },
        "outputId": "2d9deb7b-d5bb-4ce5-cfeb-3dd99fa30bf1"
      },
      "source": [
        "X.head()"
      ],
      "execution_count": 112,
      "outputs": [
        {
          "output_type": "execute_result",
          "data": {
            "text/html": [
              "<div>\n",
              "<style scoped>\n",
              "    .dataframe tbody tr th:only-of-type {\n",
              "        vertical-align: middle;\n",
              "    }\n",
              "\n",
              "    .dataframe tbody tr th {\n",
              "        vertical-align: top;\n",
              "    }\n",
              "\n",
              "    .dataframe thead th {\n",
              "        text-align: right;\n",
              "    }\n",
              "</style>\n",
              "<table border=\"1\" class=\"dataframe\">\n",
              "  <thead>\n",
              "    <tr style=\"text-align: right;\">\n",
              "      <th></th>\n",
              "      <th>alcohol</th>\n",
              "      <th>malic_acid</th>\n",
              "      <th>ash</th>\n",
              "      <th>alcalinity_of_ash</th>\n",
              "      <th>magnesium</th>\n",
              "      <th>total_phenols</th>\n",
              "      <th>flavanoids</th>\n",
              "      <th>nonflavanoid_phenols</th>\n",
              "      <th>proanthocyanins</th>\n",
              "      <th>color_intensity</th>\n",
              "      <th>hue</th>\n",
              "      <th>od280/od315_of_diluted_wines</th>\n",
              "      <th>proline</th>\n",
              "      <th>target</th>\n",
              "    </tr>\n",
              "  </thead>\n",
              "  <tbody>\n",
              "    <tr>\n",
              "      <th>0</th>\n",
              "      <td>14.23</td>\n",
              "      <td>1.71</td>\n",
              "      <td>2.43</td>\n",
              "      <td>15.6</td>\n",
              "      <td>127.0</td>\n",
              "      <td>2.80</td>\n",
              "      <td>3.06</td>\n",
              "      <td>0.28</td>\n",
              "      <td>2.29</td>\n",
              "      <td>5.64</td>\n",
              "      <td>1.04</td>\n",
              "      <td>3.92</td>\n",
              "      <td>1065.0</td>\n",
              "      <td>0</td>\n",
              "    </tr>\n",
              "    <tr>\n",
              "      <th>1</th>\n",
              "      <td>13.20</td>\n",
              "      <td>1.78</td>\n",
              "      <td>2.14</td>\n",
              "      <td>11.2</td>\n",
              "      <td>100.0</td>\n",
              "      <td>2.65</td>\n",
              "      <td>2.76</td>\n",
              "      <td>0.26</td>\n",
              "      <td>1.28</td>\n",
              "      <td>4.38</td>\n",
              "      <td>1.05</td>\n",
              "      <td>3.40</td>\n",
              "      <td>1050.0</td>\n",
              "      <td>0</td>\n",
              "    </tr>\n",
              "    <tr>\n",
              "      <th>2</th>\n",
              "      <td>13.16</td>\n",
              "      <td>2.36</td>\n",
              "      <td>2.67</td>\n",
              "      <td>18.6</td>\n",
              "      <td>101.0</td>\n",
              "      <td>2.80</td>\n",
              "      <td>3.24</td>\n",
              "      <td>0.30</td>\n",
              "      <td>2.81</td>\n",
              "      <td>5.68</td>\n",
              "      <td>1.03</td>\n",
              "      <td>3.17</td>\n",
              "      <td>1185.0</td>\n",
              "      <td>0</td>\n",
              "    </tr>\n",
              "    <tr>\n",
              "      <th>3</th>\n",
              "      <td>14.37</td>\n",
              "      <td>1.95</td>\n",
              "      <td>2.50</td>\n",
              "      <td>16.8</td>\n",
              "      <td>113.0</td>\n",
              "      <td>3.85</td>\n",
              "      <td>3.49</td>\n",
              "      <td>0.24</td>\n",
              "      <td>2.18</td>\n",
              "      <td>7.80</td>\n",
              "      <td>0.86</td>\n",
              "      <td>3.45</td>\n",
              "      <td>1480.0</td>\n",
              "      <td>0</td>\n",
              "    </tr>\n",
              "    <tr>\n",
              "      <th>4</th>\n",
              "      <td>13.24</td>\n",
              "      <td>2.59</td>\n",
              "      <td>2.87</td>\n",
              "      <td>21.0</td>\n",
              "      <td>118.0</td>\n",
              "      <td>2.80</td>\n",
              "      <td>2.69</td>\n",
              "      <td>0.39</td>\n",
              "      <td>1.82</td>\n",
              "      <td>4.32</td>\n",
              "      <td>1.04</td>\n",
              "      <td>2.93</td>\n",
              "      <td>735.0</td>\n",
              "      <td>0</td>\n",
              "    </tr>\n",
              "  </tbody>\n",
              "</table>\n",
              "</div>"
            ],
            "text/plain": [
              "   alcohol  malic_acid   ash  alcalinity_of_ash  magnesium  total_phenols  \\\n",
              "0    14.23        1.71  2.43               15.6      127.0           2.80   \n",
              "1    13.20        1.78  2.14               11.2      100.0           2.65   \n",
              "2    13.16        2.36  2.67               18.6      101.0           2.80   \n",
              "3    14.37        1.95  2.50               16.8      113.0           3.85   \n",
              "4    13.24        2.59  2.87               21.0      118.0           2.80   \n",
              "\n",
              "   flavanoids  nonflavanoid_phenols  proanthocyanins  color_intensity   hue  \\\n",
              "0        3.06                  0.28             2.29             5.64  1.04   \n",
              "1        2.76                  0.26             1.28             4.38  1.05   \n",
              "2        3.24                  0.30             2.81             5.68  1.03   \n",
              "3        3.49                  0.24             2.18             7.80  0.86   \n",
              "4        2.69                  0.39             1.82             4.32  1.04   \n",
              "\n",
              "   od280/od315_of_diluted_wines  proline  target  \n",
              "0                          3.92   1065.0       0  \n",
              "1                          3.40   1050.0       0  \n",
              "2                          3.17   1185.0       0  \n",
              "3                          3.45   1480.0       0  \n",
              "4                          2.93    735.0       0  "
            ]
          },
          "metadata": {
            "tags": []
          },
          "execution_count": 112
        }
      ]
    },
    {
      "cell_type": "markdown",
      "metadata": {
        "id": "soz0XRaSeXd-",
        "colab_type": "text"
      },
      "source": [
        "Постройте матрицу корреляций для всех полей X. Дайте полученному датафрейму название X_corr."
      ]
    },
    {
      "cell_type": "code",
      "metadata": {
        "id": "lN9BDVgheWWJ",
        "colab_type": "code",
        "colab": {
          "base_uri": "https://localhost:8080/",
          "height": 483
        },
        "outputId": "5a2d9234-071f-49d2-f5c1-f73733b412e0"
      },
      "source": [
        "X_corr = X.corr()\n",
        "X_corr"
      ],
      "execution_count": 113,
      "outputs": [
        {
          "output_type": "execute_result",
          "data": {
            "text/html": [
              "<div>\n",
              "<style scoped>\n",
              "    .dataframe tbody tr th:only-of-type {\n",
              "        vertical-align: middle;\n",
              "    }\n",
              "\n",
              "    .dataframe tbody tr th {\n",
              "        vertical-align: top;\n",
              "    }\n",
              "\n",
              "    .dataframe thead th {\n",
              "        text-align: right;\n",
              "    }\n",
              "</style>\n",
              "<table border=\"1\" class=\"dataframe\">\n",
              "  <thead>\n",
              "    <tr style=\"text-align: right;\">\n",
              "      <th></th>\n",
              "      <th>alcohol</th>\n",
              "      <th>malic_acid</th>\n",
              "      <th>ash</th>\n",
              "      <th>alcalinity_of_ash</th>\n",
              "      <th>magnesium</th>\n",
              "      <th>total_phenols</th>\n",
              "      <th>flavanoids</th>\n",
              "      <th>nonflavanoid_phenols</th>\n",
              "      <th>proanthocyanins</th>\n",
              "      <th>color_intensity</th>\n",
              "      <th>hue</th>\n",
              "      <th>od280/od315_of_diluted_wines</th>\n",
              "      <th>proline</th>\n",
              "      <th>target</th>\n",
              "    </tr>\n",
              "  </thead>\n",
              "  <tbody>\n",
              "    <tr>\n",
              "      <th>alcohol</th>\n",
              "      <td>1.00</td>\n",
              "      <td>0.09</td>\n",
              "      <td>2.12e-01</td>\n",
              "      <td>-0.31</td>\n",
              "      <td>0.27</td>\n",
              "      <td>0.29</td>\n",
              "      <td>0.24</td>\n",
              "      <td>-0.16</td>\n",
              "      <td>1.37e-01</td>\n",
              "      <td>0.55</td>\n",
              "      <td>-0.07</td>\n",
              "      <td>7.23e-02</td>\n",
              "      <td>0.64</td>\n",
              "      <td>-0.33</td>\n",
              "    </tr>\n",
              "    <tr>\n",
              "      <th>malic_acid</th>\n",
              "      <td>0.09</td>\n",
              "      <td>1.00</td>\n",
              "      <td>1.64e-01</td>\n",
              "      <td>0.29</td>\n",
              "      <td>-0.05</td>\n",
              "      <td>-0.34</td>\n",
              "      <td>-0.41</td>\n",
              "      <td>0.29</td>\n",
              "      <td>-2.21e-01</td>\n",
              "      <td>0.25</td>\n",
              "      <td>-0.56</td>\n",
              "      <td>-3.69e-01</td>\n",
              "      <td>-0.19</td>\n",
              "      <td>0.44</td>\n",
              "    </tr>\n",
              "    <tr>\n",
              "      <th>ash</th>\n",
              "      <td>0.21</td>\n",
              "      <td>0.16</td>\n",
              "      <td>1.00e+00</td>\n",
              "      <td>0.44</td>\n",
              "      <td>0.29</td>\n",
              "      <td>0.13</td>\n",
              "      <td>0.12</td>\n",
              "      <td>0.19</td>\n",
              "      <td>9.65e-03</td>\n",
              "      <td>0.26</td>\n",
              "      <td>-0.07</td>\n",
              "      <td>3.91e-03</td>\n",
              "      <td>0.22</td>\n",
              "      <td>-0.05</td>\n",
              "    </tr>\n",
              "    <tr>\n",
              "      <th>alcalinity_of_ash</th>\n",
              "      <td>-0.31</td>\n",
              "      <td>0.29</td>\n",
              "      <td>4.43e-01</td>\n",
              "      <td>1.00</td>\n",
              "      <td>-0.08</td>\n",
              "      <td>-0.32</td>\n",
              "      <td>-0.35</td>\n",
              "      <td>0.36</td>\n",
              "      <td>-1.97e-01</td>\n",
              "      <td>0.02</td>\n",
              "      <td>-0.27</td>\n",
              "      <td>-2.77e-01</td>\n",
              "      <td>-0.44</td>\n",
              "      <td>0.52</td>\n",
              "    </tr>\n",
              "    <tr>\n",
              "      <th>magnesium</th>\n",
              "      <td>0.27</td>\n",
              "      <td>-0.05</td>\n",
              "      <td>2.87e-01</td>\n",
              "      <td>-0.08</td>\n",
              "      <td>1.00</td>\n",
              "      <td>0.21</td>\n",
              "      <td>0.20</td>\n",
              "      <td>-0.26</td>\n",
              "      <td>2.36e-01</td>\n",
              "      <td>0.20</td>\n",
              "      <td>0.06</td>\n",
              "      <td>6.60e-02</td>\n",
              "      <td>0.39</td>\n",
              "      <td>-0.21</td>\n",
              "    </tr>\n",
              "    <tr>\n",
              "      <th>total_phenols</th>\n",
              "      <td>0.29</td>\n",
              "      <td>-0.34</td>\n",
              "      <td>1.29e-01</td>\n",
              "      <td>-0.32</td>\n",
              "      <td>0.21</td>\n",
              "      <td>1.00</td>\n",
              "      <td>0.86</td>\n",
              "      <td>-0.45</td>\n",
              "      <td>6.12e-01</td>\n",
              "      <td>-0.06</td>\n",
              "      <td>0.43</td>\n",
              "      <td>7.00e-01</td>\n",
              "      <td>0.50</td>\n",
              "      <td>-0.72</td>\n",
              "    </tr>\n",
              "    <tr>\n",
              "      <th>flavanoids</th>\n",
              "      <td>0.24</td>\n",
              "      <td>-0.41</td>\n",
              "      <td>1.15e-01</td>\n",
              "      <td>-0.35</td>\n",
              "      <td>0.20</td>\n",
              "      <td>0.86</td>\n",
              "      <td>1.00</td>\n",
              "      <td>-0.54</td>\n",
              "      <td>6.53e-01</td>\n",
              "      <td>-0.17</td>\n",
              "      <td>0.54</td>\n",
              "      <td>7.87e-01</td>\n",
              "      <td>0.49</td>\n",
              "      <td>-0.85</td>\n",
              "    </tr>\n",
              "    <tr>\n",
              "      <th>nonflavanoid_phenols</th>\n",
              "      <td>-0.16</td>\n",
              "      <td>0.29</td>\n",
              "      <td>1.86e-01</td>\n",
              "      <td>0.36</td>\n",
              "      <td>-0.26</td>\n",
              "      <td>-0.45</td>\n",
              "      <td>-0.54</td>\n",
              "      <td>1.00</td>\n",
              "      <td>-3.66e-01</td>\n",
              "      <td>0.14</td>\n",
              "      <td>-0.26</td>\n",
              "      <td>-5.03e-01</td>\n",
              "      <td>-0.31</td>\n",
              "      <td>0.49</td>\n",
              "    </tr>\n",
              "    <tr>\n",
              "      <th>proanthocyanins</th>\n",
              "      <td>0.14</td>\n",
              "      <td>-0.22</td>\n",
              "      <td>9.65e-03</td>\n",
              "      <td>-0.20</td>\n",
              "      <td>0.24</td>\n",
              "      <td>0.61</td>\n",
              "      <td>0.65</td>\n",
              "      <td>-0.37</td>\n",
              "      <td>1.00e+00</td>\n",
              "      <td>-0.03</td>\n",
              "      <td>0.30</td>\n",
              "      <td>5.19e-01</td>\n",
              "      <td>0.33</td>\n",
              "      <td>-0.50</td>\n",
              "    </tr>\n",
              "    <tr>\n",
              "      <th>color_intensity</th>\n",
              "      <td>0.55</td>\n",
              "      <td>0.25</td>\n",
              "      <td>2.59e-01</td>\n",
              "      <td>0.02</td>\n",
              "      <td>0.20</td>\n",
              "      <td>-0.06</td>\n",
              "      <td>-0.17</td>\n",
              "      <td>0.14</td>\n",
              "      <td>-2.52e-02</td>\n",
              "      <td>1.00</td>\n",
              "      <td>-0.52</td>\n",
              "      <td>-4.29e-01</td>\n",
              "      <td>0.32</td>\n",
              "      <td>0.27</td>\n",
              "    </tr>\n",
              "    <tr>\n",
              "      <th>hue</th>\n",
              "      <td>-0.07</td>\n",
              "      <td>-0.56</td>\n",
              "      <td>-7.47e-02</td>\n",
              "      <td>-0.27</td>\n",
              "      <td>0.06</td>\n",
              "      <td>0.43</td>\n",
              "      <td>0.54</td>\n",
              "      <td>-0.26</td>\n",
              "      <td>2.96e-01</td>\n",
              "      <td>-0.52</td>\n",
              "      <td>1.00</td>\n",
              "      <td>5.65e-01</td>\n",
              "      <td>0.24</td>\n",
              "      <td>-0.62</td>\n",
              "    </tr>\n",
              "    <tr>\n",
              "      <th>od280/od315_of_diluted_wines</th>\n",
              "      <td>0.07</td>\n",
              "      <td>-0.37</td>\n",
              "      <td>3.91e-03</td>\n",
              "      <td>-0.28</td>\n",
              "      <td>0.07</td>\n",
              "      <td>0.70</td>\n",
              "      <td>0.79</td>\n",
              "      <td>-0.50</td>\n",
              "      <td>5.19e-01</td>\n",
              "      <td>-0.43</td>\n",
              "      <td>0.57</td>\n",
              "      <td>1.00e+00</td>\n",
              "      <td>0.31</td>\n",
              "      <td>-0.79</td>\n",
              "    </tr>\n",
              "    <tr>\n",
              "      <th>proline</th>\n",
              "      <td>0.64</td>\n",
              "      <td>-0.19</td>\n",
              "      <td>2.24e-01</td>\n",
              "      <td>-0.44</td>\n",
              "      <td>0.39</td>\n",
              "      <td>0.50</td>\n",
              "      <td>0.49</td>\n",
              "      <td>-0.31</td>\n",
              "      <td>3.30e-01</td>\n",
              "      <td>0.32</td>\n",
              "      <td>0.24</td>\n",
              "      <td>3.13e-01</td>\n",
              "      <td>1.00</td>\n",
              "      <td>-0.63</td>\n",
              "    </tr>\n",
              "    <tr>\n",
              "      <th>target</th>\n",
              "      <td>-0.33</td>\n",
              "      <td>0.44</td>\n",
              "      <td>-4.96e-02</td>\n",
              "      <td>0.52</td>\n",
              "      <td>-0.21</td>\n",
              "      <td>-0.72</td>\n",
              "      <td>-0.85</td>\n",
              "      <td>0.49</td>\n",
              "      <td>-4.99e-01</td>\n",
              "      <td>0.27</td>\n",
              "      <td>-0.62</td>\n",
              "      <td>-7.88e-01</td>\n",
              "      <td>-0.63</td>\n",
              "      <td>1.00</td>\n",
              "    </tr>\n",
              "  </tbody>\n",
              "</table>\n",
              "</div>"
            ],
            "text/plain": [
              "                              alcohol  malic_acid       ash  \\\n",
              "alcohol                          1.00        0.09  2.12e-01   \n",
              "malic_acid                       0.09        1.00  1.64e-01   \n",
              "ash                              0.21        0.16  1.00e+00   \n",
              "alcalinity_of_ash               -0.31        0.29  4.43e-01   \n",
              "magnesium                        0.27       -0.05  2.87e-01   \n",
              "total_phenols                    0.29       -0.34  1.29e-01   \n",
              "flavanoids                       0.24       -0.41  1.15e-01   \n",
              "nonflavanoid_phenols            -0.16        0.29  1.86e-01   \n",
              "proanthocyanins                  0.14       -0.22  9.65e-03   \n",
              "color_intensity                  0.55        0.25  2.59e-01   \n",
              "hue                             -0.07       -0.56 -7.47e-02   \n",
              "od280/od315_of_diluted_wines     0.07       -0.37  3.91e-03   \n",
              "proline                          0.64       -0.19  2.24e-01   \n",
              "target                          -0.33        0.44 -4.96e-02   \n",
              "\n",
              "                              alcalinity_of_ash  magnesium  total_phenols  \\\n",
              "alcohol                                   -0.31       0.27           0.29   \n",
              "malic_acid                                 0.29      -0.05          -0.34   \n",
              "ash                                        0.44       0.29           0.13   \n",
              "alcalinity_of_ash                          1.00      -0.08          -0.32   \n",
              "magnesium                                 -0.08       1.00           0.21   \n",
              "total_phenols                             -0.32       0.21           1.00   \n",
              "flavanoids                                -0.35       0.20           0.86   \n",
              "nonflavanoid_phenols                       0.36      -0.26          -0.45   \n",
              "proanthocyanins                           -0.20       0.24           0.61   \n",
              "color_intensity                            0.02       0.20          -0.06   \n",
              "hue                                       -0.27       0.06           0.43   \n",
              "od280/od315_of_diluted_wines              -0.28       0.07           0.70   \n",
              "proline                                   -0.44       0.39           0.50   \n",
              "target                                     0.52      -0.21          -0.72   \n",
              "\n",
              "                              flavanoids  nonflavanoid_phenols  \\\n",
              "alcohol                             0.24                 -0.16   \n",
              "malic_acid                         -0.41                  0.29   \n",
              "ash                                 0.12                  0.19   \n",
              "alcalinity_of_ash                  -0.35                  0.36   \n",
              "magnesium                           0.20                 -0.26   \n",
              "total_phenols                       0.86                 -0.45   \n",
              "flavanoids                          1.00                 -0.54   \n",
              "nonflavanoid_phenols               -0.54                  1.00   \n",
              "proanthocyanins                     0.65                 -0.37   \n",
              "color_intensity                    -0.17                  0.14   \n",
              "hue                                 0.54                 -0.26   \n",
              "od280/od315_of_diluted_wines        0.79                 -0.50   \n",
              "proline                             0.49                 -0.31   \n",
              "target                             -0.85                  0.49   \n",
              "\n",
              "                              proanthocyanins  color_intensity   hue  \\\n",
              "alcohol                              1.37e-01             0.55 -0.07   \n",
              "malic_acid                          -2.21e-01             0.25 -0.56   \n",
              "ash                                  9.65e-03             0.26 -0.07   \n",
              "alcalinity_of_ash                   -1.97e-01             0.02 -0.27   \n",
              "magnesium                            2.36e-01             0.20  0.06   \n",
              "total_phenols                        6.12e-01            -0.06  0.43   \n",
              "flavanoids                           6.53e-01            -0.17  0.54   \n",
              "nonflavanoid_phenols                -3.66e-01             0.14 -0.26   \n",
              "proanthocyanins                      1.00e+00            -0.03  0.30   \n",
              "color_intensity                     -2.52e-02             1.00 -0.52   \n",
              "hue                                  2.96e-01            -0.52  1.00   \n",
              "od280/od315_of_diluted_wines         5.19e-01            -0.43  0.57   \n",
              "proline                              3.30e-01             0.32  0.24   \n",
              "target                              -4.99e-01             0.27 -0.62   \n",
              "\n",
              "                              od280/od315_of_diluted_wines  proline  target  \n",
              "alcohol                                           7.23e-02     0.64   -0.33  \n",
              "malic_acid                                       -3.69e-01    -0.19    0.44  \n",
              "ash                                               3.91e-03     0.22   -0.05  \n",
              "alcalinity_of_ash                                -2.77e-01    -0.44    0.52  \n",
              "magnesium                                         6.60e-02     0.39   -0.21  \n",
              "total_phenols                                     7.00e-01     0.50   -0.72  \n",
              "flavanoids                                        7.87e-01     0.49   -0.85  \n",
              "nonflavanoid_phenols                             -5.03e-01    -0.31    0.49  \n",
              "proanthocyanins                                   5.19e-01     0.33   -0.50  \n",
              "color_intensity                                  -4.29e-01     0.32    0.27  \n",
              "hue                                               5.65e-01     0.24   -0.62  \n",
              "od280/od315_of_diluted_wines                      1.00e+00     0.31   -0.79  \n",
              "proline                                           3.13e-01     1.00   -0.63  \n",
              "target                                           -7.88e-01    -0.63    1.00  "
            ]
          },
          "metadata": {
            "tags": []
          },
          "execution_count": 113
        }
      ]
    },
    {
      "cell_type": "markdown",
      "metadata": {
        "id": "WKBHCq_1eemW",
        "colab_type": "text"
      },
      "source": [
        "Создайте список high_corr из признаков, корреляция которых с полем target по абсолютному значению превышает 0.5 (причем, само поле target не должно входить в этот список)."
      ]
    },
    {
      "cell_type": "code",
      "metadata": {
        "id": "lHMo14BfehFK",
        "colab_type": "code",
        "colab": {
          "base_uri": "https://localhost:8080/",
          "height": 68
        },
        "outputId": "9a87a23e-c5f7-4664-f3f6-5a80c0029653"
      },
      "source": [
        "high_corr = X_corr.loc[(abs(X_corr['target']) > 0.5) & (X_corr.index != 'target'), X_corr.columns != 'target'].index\n",
        "high_corr"
      ],
      "execution_count": 114,
      "outputs": [
        {
          "output_type": "execute_result",
          "data": {
            "text/plain": [
              "Index(['alcalinity_of_ash', 'total_phenols', 'flavanoids', 'hue',\n",
              "       'od280/od315_of_diluted_wines', 'proline'],\n",
              "      dtype='object')"
            ]
          },
          "metadata": {
            "tags": []
          },
          "execution_count": 114
        }
      ]
    },
    {
      "cell_type": "markdown",
      "metadata": {
        "id": "5eAxofE-fX-Z",
        "colab_type": "text"
      },
      "source": [
        "Удалите из датафрейма X поле с целевой переменной. Для всех признаков, названия которых содержатся в списке high_corr, вычислите квадрат их значений и добавьте в датафрейм X соответствующие поля с суффиксом '_2', добавленного к первоначальному названию признака. Итоговый датафрейм должен содержать все поля, которые, были в нем изначально, а также поля с признаками из списка high_corr, возведенными в квадрат. Выведите описание полей датафрейма X с помощью метода describe."
      ]
    },
    {
      "cell_type": "code",
      "metadata": {
        "id": "Y29otZtBfY3S",
        "colab_type": "code",
        "colab": {
          "base_uri": "https://localhost:8080/",
          "height": 204
        },
        "outputId": "f26e8f00-46d1-4973-89d2-cb6ca8f74592"
      },
      "source": [
        "X = X.drop('target', axis=1)\n",
        "X.head()"
      ],
      "execution_count": 115,
      "outputs": [
        {
          "output_type": "execute_result",
          "data": {
            "text/html": [
              "<div>\n",
              "<style scoped>\n",
              "    .dataframe tbody tr th:only-of-type {\n",
              "        vertical-align: middle;\n",
              "    }\n",
              "\n",
              "    .dataframe tbody tr th {\n",
              "        vertical-align: top;\n",
              "    }\n",
              "\n",
              "    .dataframe thead th {\n",
              "        text-align: right;\n",
              "    }\n",
              "</style>\n",
              "<table border=\"1\" class=\"dataframe\">\n",
              "  <thead>\n",
              "    <tr style=\"text-align: right;\">\n",
              "      <th></th>\n",
              "      <th>alcohol</th>\n",
              "      <th>malic_acid</th>\n",
              "      <th>ash</th>\n",
              "      <th>alcalinity_of_ash</th>\n",
              "      <th>magnesium</th>\n",
              "      <th>total_phenols</th>\n",
              "      <th>flavanoids</th>\n",
              "      <th>nonflavanoid_phenols</th>\n",
              "      <th>proanthocyanins</th>\n",
              "      <th>color_intensity</th>\n",
              "      <th>hue</th>\n",
              "      <th>od280/od315_of_diluted_wines</th>\n",
              "      <th>proline</th>\n",
              "    </tr>\n",
              "  </thead>\n",
              "  <tbody>\n",
              "    <tr>\n",
              "      <th>0</th>\n",
              "      <td>14.23</td>\n",
              "      <td>1.71</td>\n",
              "      <td>2.43</td>\n",
              "      <td>15.6</td>\n",
              "      <td>127.0</td>\n",
              "      <td>2.80</td>\n",
              "      <td>3.06</td>\n",
              "      <td>0.28</td>\n",
              "      <td>2.29</td>\n",
              "      <td>5.64</td>\n",
              "      <td>1.04</td>\n",
              "      <td>3.92</td>\n",
              "      <td>1065.0</td>\n",
              "    </tr>\n",
              "    <tr>\n",
              "      <th>1</th>\n",
              "      <td>13.20</td>\n",
              "      <td>1.78</td>\n",
              "      <td>2.14</td>\n",
              "      <td>11.2</td>\n",
              "      <td>100.0</td>\n",
              "      <td>2.65</td>\n",
              "      <td>2.76</td>\n",
              "      <td>0.26</td>\n",
              "      <td>1.28</td>\n",
              "      <td>4.38</td>\n",
              "      <td>1.05</td>\n",
              "      <td>3.40</td>\n",
              "      <td>1050.0</td>\n",
              "    </tr>\n",
              "    <tr>\n",
              "      <th>2</th>\n",
              "      <td>13.16</td>\n",
              "      <td>2.36</td>\n",
              "      <td>2.67</td>\n",
              "      <td>18.6</td>\n",
              "      <td>101.0</td>\n",
              "      <td>2.80</td>\n",
              "      <td>3.24</td>\n",
              "      <td>0.30</td>\n",
              "      <td>2.81</td>\n",
              "      <td>5.68</td>\n",
              "      <td>1.03</td>\n",
              "      <td>3.17</td>\n",
              "      <td>1185.0</td>\n",
              "    </tr>\n",
              "    <tr>\n",
              "      <th>3</th>\n",
              "      <td>14.37</td>\n",
              "      <td>1.95</td>\n",
              "      <td>2.50</td>\n",
              "      <td>16.8</td>\n",
              "      <td>113.0</td>\n",
              "      <td>3.85</td>\n",
              "      <td>3.49</td>\n",
              "      <td>0.24</td>\n",
              "      <td>2.18</td>\n",
              "      <td>7.80</td>\n",
              "      <td>0.86</td>\n",
              "      <td>3.45</td>\n",
              "      <td>1480.0</td>\n",
              "    </tr>\n",
              "    <tr>\n",
              "      <th>4</th>\n",
              "      <td>13.24</td>\n",
              "      <td>2.59</td>\n",
              "      <td>2.87</td>\n",
              "      <td>21.0</td>\n",
              "      <td>118.0</td>\n",
              "      <td>2.80</td>\n",
              "      <td>2.69</td>\n",
              "      <td>0.39</td>\n",
              "      <td>1.82</td>\n",
              "      <td>4.32</td>\n",
              "      <td>1.04</td>\n",
              "      <td>2.93</td>\n",
              "      <td>735.0</td>\n",
              "    </tr>\n",
              "  </tbody>\n",
              "</table>\n",
              "</div>"
            ],
            "text/plain": [
              "   alcohol  malic_acid   ash  alcalinity_of_ash  magnesium  total_phenols  \\\n",
              "0    14.23        1.71  2.43               15.6      127.0           2.80   \n",
              "1    13.20        1.78  2.14               11.2      100.0           2.65   \n",
              "2    13.16        2.36  2.67               18.6      101.0           2.80   \n",
              "3    14.37        1.95  2.50               16.8      113.0           3.85   \n",
              "4    13.24        2.59  2.87               21.0      118.0           2.80   \n",
              "\n",
              "   flavanoids  nonflavanoid_phenols  proanthocyanins  color_intensity   hue  \\\n",
              "0        3.06                  0.28             2.29             5.64  1.04   \n",
              "1        2.76                  0.26             1.28             4.38  1.05   \n",
              "2        3.24                  0.30             2.81             5.68  1.03   \n",
              "3        3.49                  0.24             2.18             7.80  0.86   \n",
              "4        2.69                  0.39             1.82             4.32  1.04   \n",
              "\n",
              "   od280/od315_of_diluted_wines  proline  \n",
              "0                          3.92   1065.0  \n",
              "1                          3.40   1050.0  \n",
              "2                          3.17   1185.0  \n",
              "3                          3.45   1480.0  \n",
              "4                          2.93    735.0  "
            ]
          },
          "metadata": {
            "tags": []
          },
          "execution_count": 115
        }
      ]
    },
    {
      "cell_type": "code",
      "metadata": {
        "id": "l7b9SSa8fdhR",
        "colab_type": "code",
        "colab": {}
      },
      "source": [
        "for feature_name in high_corr:\n",
        "    X[f'{feature_name}_2'] = X.apply(lambda row: row[feature_name] ** 2, axis=1)"
      ],
      "execution_count": 0,
      "outputs": []
    },
    {
      "cell_type": "code",
      "metadata": {
        "id": "Ti1G0XdEfg5a",
        "colab_type": "code",
        "colab": {
          "base_uri": "https://localhost:8080/",
          "height": 317
        },
        "outputId": "26c21810-e942-4581-988f-3b2e87036ea0"
      },
      "source": [
        "X.describe()"
      ],
      "execution_count": 117,
      "outputs": [
        {
          "output_type": "execute_result",
          "data": {
            "text/html": [
              "<div>\n",
              "<style scoped>\n",
              "    .dataframe tbody tr th:only-of-type {\n",
              "        vertical-align: middle;\n",
              "    }\n",
              "\n",
              "    .dataframe tbody tr th {\n",
              "        vertical-align: top;\n",
              "    }\n",
              "\n",
              "    .dataframe thead th {\n",
              "        text-align: right;\n",
              "    }\n",
              "</style>\n",
              "<table border=\"1\" class=\"dataframe\">\n",
              "  <thead>\n",
              "    <tr style=\"text-align: right;\">\n",
              "      <th></th>\n",
              "      <th>alcohol</th>\n",
              "      <th>malic_acid</th>\n",
              "      <th>ash</th>\n",
              "      <th>alcalinity_of_ash</th>\n",
              "      <th>magnesium</th>\n",
              "      <th>total_phenols</th>\n",
              "      <th>flavanoids</th>\n",
              "      <th>nonflavanoid_phenols</th>\n",
              "      <th>proanthocyanins</th>\n",
              "      <th>color_intensity</th>\n",
              "      <th>hue</th>\n",
              "      <th>od280/od315_of_diluted_wines</th>\n",
              "      <th>proline</th>\n",
              "      <th>alcalinity_of_ash_2</th>\n",
              "      <th>total_phenols_2</th>\n",
              "      <th>flavanoids_2</th>\n",
              "      <th>hue_2</th>\n",
              "      <th>od280/od315_of_diluted_wines_2</th>\n",
              "      <th>proline_2</th>\n",
              "    </tr>\n",
              "  </thead>\n",
              "  <tbody>\n",
              "    <tr>\n",
              "      <th>count</th>\n",
              "      <td>178.00</td>\n",
              "      <td>178.00</td>\n",
              "      <td>178.00</td>\n",
              "      <td>178.00</td>\n",
              "      <td>178.00</td>\n",
              "      <td>178.00</td>\n",
              "      <td>178.00</td>\n",
              "      <td>178.00</td>\n",
              "      <td>178.00</td>\n",
              "      <td>178.00</td>\n",
              "      <td>178.00</td>\n",
              "      <td>178.00</td>\n",
              "      <td>178.00</td>\n",
              "      <td>178.00</td>\n",
              "      <td>178.00</td>\n",
              "      <td>178.00</td>\n",
              "      <td>178.00</td>\n",
              "      <td>178.00</td>\n",
              "      <td>1.78e+02</td>\n",
              "    </tr>\n",
              "    <tr>\n",
              "      <th>mean</th>\n",
              "      <td>13.00</td>\n",
              "      <td>2.34</td>\n",
              "      <td>2.37</td>\n",
              "      <td>19.49</td>\n",
              "      <td>99.74</td>\n",
              "      <td>2.30</td>\n",
              "      <td>2.03</td>\n",
              "      <td>0.36</td>\n",
              "      <td>1.59</td>\n",
              "      <td>5.06</td>\n",
              "      <td>0.96</td>\n",
              "      <td>2.61</td>\n",
              "      <td>746.89</td>\n",
              "      <td>391.14</td>\n",
              "      <td>5.66</td>\n",
              "      <td>5.11</td>\n",
              "      <td>0.97</td>\n",
              "      <td>7.32</td>\n",
              "      <td>6.56e+05</td>\n",
              "    </tr>\n",
              "    <tr>\n",
              "      <th>std</th>\n",
              "      <td>0.81</td>\n",
              "      <td>1.12</td>\n",
              "      <td>0.27</td>\n",
              "      <td>3.34</td>\n",
              "      <td>14.28</td>\n",
              "      <td>0.63</td>\n",
              "      <td>1.00</td>\n",
              "      <td>0.12</td>\n",
              "      <td>0.57</td>\n",
              "      <td>2.32</td>\n",
              "      <td>0.23</td>\n",
              "      <td>0.71</td>\n",
              "      <td>314.91</td>\n",
              "      <td>133.67</td>\n",
              "      <td>2.94</td>\n",
              "      <td>4.21</td>\n",
              "      <td>0.44</td>\n",
              "      <td>3.58</td>\n",
              "      <td>5.56e+05</td>\n",
              "    </tr>\n",
              "    <tr>\n",
              "      <th>min</th>\n",
              "      <td>11.03</td>\n",
              "      <td>0.74</td>\n",
              "      <td>1.36</td>\n",
              "      <td>10.60</td>\n",
              "      <td>70.00</td>\n",
              "      <td>0.98</td>\n",
              "      <td>0.34</td>\n",
              "      <td>0.13</td>\n",
              "      <td>0.41</td>\n",
              "      <td>1.28</td>\n",
              "      <td>0.48</td>\n",
              "      <td>1.27</td>\n",
              "      <td>278.00</td>\n",
              "      <td>112.36</td>\n",
              "      <td>0.96</td>\n",
              "      <td>0.12</td>\n",
              "      <td>0.23</td>\n",
              "      <td>1.61</td>\n",
              "      <td>7.73e+04</td>\n",
              "    </tr>\n",
              "    <tr>\n",
              "      <th>25%</th>\n",
              "      <td>12.36</td>\n",
              "      <td>1.60</td>\n",
              "      <td>2.21</td>\n",
              "      <td>17.20</td>\n",
              "      <td>88.00</td>\n",
              "      <td>1.74</td>\n",
              "      <td>1.20</td>\n",
              "      <td>0.27</td>\n",
              "      <td>1.25</td>\n",
              "      <td>3.22</td>\n",
              "      <td>0.78</td>\n",
              "      <td>1.94</td>\n",
              "      <td>500.50</td>\n",
              "      <td>295.84</td>\n",
              "      <td>3.04</td>\n",
              "      <td>1.45</td>\n",
              "      <td>0.61</td>\n",
              "      <td>3.75</td>\n",
              "      <td>2.51e+05</td>\n",
              "    </tr>\n",
              "    <tr>\n",
              "      <th>50%</th>\n",
              "      <td>13.05</td>\n",
              "      <td>1.87</td>\n",
              "      <td>2.36</td>\n",
              "      <td>19.50</td>\n",
              "      <td>98.00</td>\n",
              "      <td>2.35</td>\n",
              "      <td>2.13</td>\n",
              "      <td>0.34</td>\n",
              "      <td>1.56</td>\n",
              "      <td>4.69</td>\n",
              "      <td>0.96</td>\n",
              "      <td>2.78</td>\n",
              "      <td>673.50</td>\n",
              "      <td>380.25</td>\n",
              "      <td>5.55</td>\n",
              "      <td>4.56</td>\n",
              "      <td>0.93</td>\n",
              "      <td>7.73</td>\n",
              "      <td>4.54e+05</td>\n",
              "    </tr>\n",
              "    <tr>\n",
              "      <th>75%</th>\n",
              "      <td>13.68</td>\n",
              "      <td>3.08</td>\n",
              "      <td>2.56</td>\n",
              "      <td>21.50</td>\n",
              "      <td>107.00</td>\n",
              "      <td>2.80</td>\n",
              "      <td>2.88</td>\n",
              "      <td>0.44</td>\n",
              "      <td>1.95</td>\n",
              "      <td>6.20</td>\n",
              "      <td>1.12</td>\n",
              "      <td>3.17</td>\n",
              "      <td>985.00</td>\n",
              "      <td>462.25</td>\n",
              "      <td>7.84</td>\n",
              "      <td>8.27</td>\n",
              "      <td>1.25</td>\n",
              "      <td>10.05</td>\n",
              "      <td>9.70e+05</td>\n",
              "    </tr>\n",
              "    <tr>\n",
              "      <th>max</th>\n",
              "      <td>14.83</td>\n",
              "      <td>5.80</td>\n",
              "      <td>3.23</td>\n",
              "      <td>30.00</td>\n",
              "      <td>162.00</td>\n",
              "      <td>3.88</td>\n",
              "      <td>5.08</td>\n",
              "      <td>0.66</td>\n",
              "      <td>3.58</td>\n",
              "      <td>13.00</td>\n",
              "      <td>1.71</td>\n",
              "      <td>4.00</td>\n",
              "      <td>1680.00</td>\n",
              "      <td>900.00</td>\n",
              "      <td>15.05</td>\n",
              "      <td>25.81</td>\n",
              "      <td>2.92</td>\n",
              "      <td>16.00</td>\n",
              "      <td>2.82e+06</td>\n",
              "    </tr>\n",
              "  </tbody>\n",
              "</table>\n",
              "</div>"
            ],
            "text/plain": [
              "       alcohol  malic_acid     ash  alcalinity_of_ash  magnesium  \\\n",
              "count   178.00      178.00  178.00             178.00     178.00   \n",
              "mean     13.00        2.34    2.37              19.49      99.74   \n",
              "std       0.81        1.12    0.27               3.34      14.28   \n",
              "min      11.03        0.74    1.36              10.60      70.00   \n",
              "25%      12.36        1.60    2.21              17.20      88.00   \n",
              "50%      13.05        1.87    2.36              19.50      98.00   \n",
              "75%      13.68        3.08    2.56              21.50     107.00   \n",
              "max      14.83        5.80    3.23              30.00     162.00   \n",
              "\n",
              "       total_phenols  flavanoids  nonflavanoid_phenols  proanthocyanins  \\\n",
              "count         178.00      178.00                178.00           178.00   \n",
              "mean            2.30        2.03                  0.36             1.59   \n",
              "std             0.63        1.00                  0.12             0.57   \n",
              "min             0.98        0.34                  0.13             0.41   \n",
              "25%             1.74        1.20                  0.27             1.25   \n",
              "50%             2.35        2.13                  0.34             1.56   \n",
              "75%             2.80        2.88                  0.44             1.95   \n",
              "max             3.88        5.08                  0.66             3.58   \n",
              "\n",
              "       color_intensity     hue  od280/od315_of_diluted_wines  proline  \\\n",
              "count           178.00  178.00                        178.00   178.00   \n",
              "mean              5.06    0.96                          2.61   746.89   \n",
              "std               2.32    0.23                          0.71   314.91   \n",
              "min               1.28    0.48                          1.27   278.00   \n",
              "25%               3.22    0.78                          1.94   500.50   \n",
              "50%               4.69    0.96                          2.78   673.50   \n",
              "75%               6.20    1.12                          3.17   985.00   \n",
              "max              13.00    1.71                          4.00  1680.00   \n",
              "\n",
              "       alcalinity_of_ash_2  total_phenols_2  flavanoids_2   hue_2  \\\n",
              "count               178.00           178.00        178.00  178.00   \n",
              "mean                391.14             5.66          5.11    0.97   \n",
              "std                 133.67             2.94          4.21    0.44   \n",
              "min                 112.36             0.96          0.12    0.23   \n",
              "25%                 295.84             3.04          1.45    0.61   \n",
              "50%                 380.25             5.55          4.56    0.93   \n",
              "75%                 462.25             7.84          8.27    1.25   \n",
              "max                 900.00            15.05         25.81    2.92   \n",
              "\n",
              "       od280/od315_of_diluted_wines_2  proline_2  \n",
              "count                          178.00   1.78e+02  \n",
              "mean                             7.32   6.56e+05  \n",
              "std                              3.58   5.56e+05  \n",
              "min                              1.61   7.73e+04  \n",
              "25%                              3.75   2.51e+05  \n",
              "50%                              7.73   4.54e+05  \n",
              "75%                             10.05   9.70e+05  \n",
              "max                             16.00   2.82e+06  "
            ]
          },
          "metadata": {
            "tags": []
          },
          "execution_count": 117
        }
      ]
    }
  ]
}