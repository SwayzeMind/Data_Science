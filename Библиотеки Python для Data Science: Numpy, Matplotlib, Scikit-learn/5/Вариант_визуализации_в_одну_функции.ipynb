{
  "nbformat": 4,
  "nbformat_minor": 0,
  "metadata": {
    "colab": {
      "name": "Вариант_визуализации_в_одну_функции.ipynb",
      "provenance": [],
      "collapsed_sections": []
    },
    "kernelspec": {
      "name": "python3",
      "display_name": "Python 3"
    },
    "accelerator": "GPU"
  },
  "cells": [
    {
      "cell_type": "markdown",
      "metadata": {
        "id": "x2QUbgf0j1fZ",
        "colab_type": "text"
      },
      "source": [
        "## Вспомогательные функции"
      ]
    },
    {
      "cell_type": "code",
      "metadata": {
        "id": "-1tQa1VPj4jH",
        "colab_type": "code",
        "colab": {}
      },
      "source": [
        "## Визуализация данных\n",
        "def prosmotr_viz(data):\n",
        "  print(' ~~~~ Какие есть ключи в датасете: \\n', data.keys()) #какие есть ключи в данных\n",
        "  print('~~~~~~~~~~~~~~~~~~~~~~~~~~~~~~~~~\\n')\n",
        "  print('*****Смотрим графики в пар-признаках *****\\n')\n",
        "  sns.pairplot(data);\n",
        "  plt.show()\n",
        "  print('~~~~~~~~~~~~~~~~~~~~~~~~~~~~~~~~~\\n')\n",
        "  print('*****Смотрим корреляцию признаков*****\\n')\n",
        "  sns.heatmap(data.corr(),annot=True)\n",
        "  plt.plot()\n",
        "  print('~~~~~~~~~~~~~~~~~~~~~~~~~~~~~~~~~\\n')\n"
      ],
      "execution_count": 0,
      "outputs": []
    }
  ]
}