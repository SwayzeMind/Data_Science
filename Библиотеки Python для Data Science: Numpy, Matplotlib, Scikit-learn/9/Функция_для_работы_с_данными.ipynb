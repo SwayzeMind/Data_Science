{
  "nbformat": 4,
  "nbformat_minor": 0,
  "metadata": {
    "colab": {
      "name": "Функция для работы с данными.ipynb",
      "provenance": [],
      "collapsed_sections": []
    },
    "kernelspec": {
      "name": "python3",
      "display_name": "Python 3"
    },
    "accelerator": "GPU"
  },
  "cells": [
    {
      "cell_type": "markdown",
      "metadata": {
        "id": "ii2Ua01hxpdk",
        "colab_type": "text"
      },
      "source": [
        "## Функции для работы с данными"
      ]
    },
    {
      "cell_type": "code",
      "metadata": {
        "id": "g9gps8VzwOzP",
        "colab_type": "code",
        "colab": {}
      },
      "source": [
        "## функция для просмотра пропусков в данных\n",
        "\n",
        "def values_table_null(data):\n",
        "        # всего пропусков\n",
        "        mis_val = data.isnull().sum()\n",
        "        \n",
        "        # процент пропусков\n",
        "        mis_val_percent = 100 * data.isnull().sum() / len(data)\n",
        "        \n",
        "        # Делаем таблицу с получившимися результатами\n",
        "        mis_val_table = pd.concat([mis_val, mis_val_percent], axis=1)\n",
        "        \n",
        "        # Переименовать столбцы\n",
        "        mis_val_table_ren_columns = mis_val_table.rename(\n",
        "        columns = {0 : 'Missing Values', 1 : '% of Total Values'})\n",
        "        \n",
        "        # Сортировка таблицы по проценту пропущенных по убыванию\n",
        "        mis_val_table_ren_columns = mis_val_table_ren_columns[\n",
        "            mis_val_table_ren_columns.iloc[:,1] != 0].sort_values(\n",
        "        '% of Total Values', ascending=False).round(1)\n",
        "        \n",
        "        # Выввод на печать сводную информацию\n",
        "        print (\"Выбранныей Вами данные \" + str(data.shape[1]) + \" колонок.\\n\"      \n",
        "            \"Из них \" + str(mis_val_table_ren_columns.shape[0]) +\n",
        "              \" имеют пропуск\")      \n",
        "\n",
        "        return mis_val_table_ren_columns"
      ],
      "execution_count": 0,
      "outputs": []
    },
    {
      "cell_type": "markdown",
      "metadata": {
        "id": "Wd6ejbiax71u",
        "colab_type": "text"
      },
      "source": [
        "## Функция по алгоритмам с метрикой \"accurary\""
      ]
    },
    {
      "cell_type": "code",
      "metadata": {
        "id": "YBBk29fLyCUU",
        "colab_type": "code",
        "colab": {}
      },
      "source": [
        "from sklearn.model_selection import StratifiedKFold\n",
        "from sklearn.model_selection import GridSearchCV\n",
        "\n",
        "\n",
        "def fit_model(model, X, y, parameters):  \n",
        "  cross_validation = StratifiedKFold(n_splits=5)\n",
        "\n",
        "  grid_search = GridSearchCV(model,\n",
        "                              scoring='accuracy',\n",
        "                              param_grid=parameters,\n",
        "                              cv=cross_validation,\n",
        "                              verbose=1\n",
        "                            )\n",
        "\n",
        "  grid_search.fit(X, y)\n",
        "  parameters=grid_search.best_params_\n",
        "  print('Best score: {}'.format(grid_search.best_score_))\n",
        "  print('Best parameters: {}'.format(parameters))\n",
        "\n",
        "  return grid_search"
      ],
      "execution_count": 0,
      "outputs": []
    },
    {
      "cell_type": "markdown",
      "metadata": {
        "id": "_GCoDlv3ymmm",
        "colab_type": "text"
      },
      "source": [
        "## Чистка данных (удаление колонок, которые имеют пропуски более 50 %)"
      ]
    },
    {
      "cell_type": "code",
      "metadata": {
        "id": "BBOuIiX8yse4",
        "colab_type": "code",
        "colab": {}
      },
      "source": [
        "missing_df = values_table_null(df);\n",
        "missing_columns = list(missing_df[missing_df['% of Total Values'] > 50].index)\n",
        "print('Удаляем %d колонок.' % len(missing_columns))"
      ],
      "execution_count": 0,
      "outputs": []
    },
    {
      "cell_type": "code",
      "metadata": {
        "id": "7LAJ25yzy-Li",
        "colab_type": "code",
        "colab": {}
      },
      "source": [
        "# Нормировка, нормализация и стандартизация\n",
        "for col in float_cols:\n",
        "  df[col] = df[col].apply(lambda x: x/df[col].mean())\n",
        "  \n",
        "yeo = PowerTransformer(method='yeo-johnson', standardize=False)\n",
        "for col in float_cols:\n",
        "    df[col] = yeo.fit_transform(df[col].values.reshape(df.shape[0],-1))\n",
        "    \n",
        "scaler = StandardScaler()\n",
        "scaler.fit(df[float_cols])\n",
        "df[float_cols] = scaler.transform(df[float_cols])"
      ],
      "execution_count": 0,
      "outputs": []
    },
    {
      "cell_type": "code",
      "metadata": {
        "id": "ob4hKAqwzwIB",
        "colab_type": "code",
        "colab": {}
      },
      "source": [
        "# поиск лучших фич и удаляем лишнее\n",
        "def best_features(X, y):\n",
        "  #выбираем топ 10 фич\n",
        "  bestfeatures = SelectKBest(score_func=chi2, k=10)\n",
        "  fit = bestfeatures.fit(X,y)\n",
        "  dfscores = pd.DataFrame(fit.scores_)\n",
        "  dfcolumns = pd.DataFrame(X.columns)\n",
        "  featureScores = pd.concat([dfcolumns,dfscores],axis=1)\n",
        "  featureScores.columns = ['Specs','Score']  \n",
        "  return list(featureScores.nlargest(10,'Score')['Specs'])   "
      ],
      "execution_count": 0,
      "outputs": []
    },
    {
      "cell_type": "code",
      "metadata": {
        "id": "WXMfzseHz4-1",
        "colab_type": "code",
        "colab": {}
      },
      "source": [
        "# стандартизируем\n",
        "from sklearn import preprocessing\n",
        "scaler = preprocessing.StandardScaler()\n",
        "X = scaler.fit_transform(x)"
      ],
      "execution_count": 0,
      "outputs": []
    }
  ]
}